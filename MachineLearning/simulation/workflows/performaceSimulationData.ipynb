{
 "cells": [
  {
   "cell_type": "markdown",
   "metadata": {},
   "source": [
    "# Workflow for ascertaining Significance of the model with Simulated Data"
   ]
  },
  {
   "cell_type": "markdown",
   "metadata": {},
   "source": [
    "## Background"
   ]
  },
  {
   "cell_type": "markdown",
   "metadata": {},
   "source": [
    "<p align = 'justify'> So, we set the stage with a optimal ML model which has been derived previously and the read-coverage data for each cell-type. In this section though, we'll taper the data for Chromosome 21 only and will tweak the data for the feature that has been found most influencial for the machine learning models (<b>Logistic Regression</b> and <b>Random Forests</b>). </p>\n",
    "<p align = 'justify'> For the linear models of Logistic Regression, we'll pick the variable that has the lowest p-value and Variance Inflation Factor (VIF). For Random Forests, we'll pick the \"most important variable\" engendered by the <b>varImp</b> function. The results are tabulated as below.</p>"
   ]
  },
  {
   "cell_type": "markdown",
   "metadata": {},
   "source": [
    "| S.No. | Algorithm | Optimum Model | Cell Line | Significant Variable\n",
    "| --- | --- | --- | --- | ---\n",
    "| 1. | Logistic Regression | a549modelSMOTE | A549 | H3K27me3\n",
    "| 2. | Logistic Regression | h1escparetoModelSmote | H1ESC | H3K36me3\n",
    "| 3. | Logistic Regression | helamodel1SMOTE | HELA | RNAPol2\n",
    "| 4. | Logistic Regression | imr90paretoModelSmote | IMR90 | H3K9me3\n",
    "| 5. | Logistic Regression | k562modelSMOTE | K562 | RNA.Seq\n",
    "| 6. | Logistic Regression | mcf7paretoModelSmote | MCF7 | RNA.Seq\n",
    "| 7. | Random Forests | a549rfSmote1 | A549 | RNAPol2\n",
    "| 8. | Random Forests | h1escrf1 | H1ESC | H3K27me3\n",
    "| 9. | Random Forests | helarf1 | HELA | RNAPol2\n",
    "| 10. | Random Forests | imr90rf1 | IMR90 | H3K27me3\n",
    "| 11. | Random Forests | k562rf1 | K562 | H3K4me1\n",
    "| 12. | Random Forests | mcf7rf1 | MCF7 | RAD21\n"
   ]
  },
  {
   "cell_type": "markdown",
   "metadata": {},
   "source": [
    "We shall consider all these models at a time and caliberate their performance on the simulation data. "
   ]
  },
  {
   "cell_type": "markdown",
   "metadata": {},
   "source": [
    "* [1. Logistic Regression | A549](#link1)\n",
    "* [2. Logistic Regression | H1ESC](#link2)\n",
    "* [3. Logistic Regression | HELA](#link3)\n",
    "* [4. Logistic Regression | IMR90](#link4)\n",
    "* [5. Logistic Regression | K562](#link5)\n",
    "* [6. Logistic Regression | MCF7](#link6)\n",
    "* [7. Random Forests | A549](#link7)\n",
    "* [8. Random Forests | H1ESC](#link8)\n",
    "* [9. Random Forests | HELA](#link9)\n",
    "* [10. Random Forests | IMR90](#link10)\n",
    "* [11. Random Forests | K562](#link11)\n",
    "* [12. Random Forests | MCF7](#link12)\n",
    "* [7. Session Information](#link13)"
   ]
  },
  {
   "cell_type": "markdown",
   "metadata": {},
   "source": [
    "### <a id=link1>1. Logistic Regression | A549 </a>"
   ]
  },
  {
   "cell_type": "code",
   "execution_count": 2,
   "metadata": {},
   "outputs": [],
   "source": [
    "## Loading the simulated data\n",
    "\n",
    "source(\"../../R/dataSimulation.R\")\n",
    "simData <- dataSimulation(dataFile = \"../../data/A549forML.txt\", chrName = \"chr21\", featureName = \"H3K27me3\")"
   ]
  },
  {
   "cell_type": "markdown",
   "metadata": {},
   "source": [
    "The function <i>dataSimulation</i> tweaks the read-coverage for each bin of the crucial variable, as a random number between the maximum read-coverage in that variable and twice that number."
   ]
  },
  {
   "cell_type": "code",
   "execution_count": 3,
   "metadata": {},
   "outputs": [
    {
     "data": {
      "text/html": [
       "<table>\n",
       "<caption>A data.frame: 6 × 16</caption>\n",
       "<thead>\n",
       "\t<tr><th></th><th scope=col>chr</th><th scope=col>start</th><th scope=col>end</th><th scope=col>CTCF</th><th scope=col>EP300</th><th scope=col>H3K27me3</th><th scope=col>H3K36me3</th><th scope=col>H3K4me1</th><th scope=col>H3K4me2</th><th scope=col>H3K4me3</th><th scope=col>H3K9ac</th><th scope=col>H3K9me3</th><th scope=col>RAD21</th><th scope=col>RNAPol2</th><th scope=col>YY1</th><th scope=col>Class</th></tr>\n",
       "\t<tr><th></th><th scope=col>&lt;chr&gt;</th><th scope=col>&lt;int&gt;</th><th scope=col>&lt;int&gt;</th><th scope=col>&lt;dbl&gt;</th><th scope=col>&lt;dbl&gt;</th><th scope=col>&lt;dbl&gt;</th><th scope=col>&lt;dbl&gt;</th><th scope=col>&lt;dbl&gt;</th><th scope=col>&lt;dbl&gt;</th><th scope=col>&lt;dbl&gt;</th><th scope=col>&lt;dbl&gt;</th><th scope=col>&lt;dbl&gt;</th><th scope=col>&lt;dbl&gt;</th><th scope=col>&lt;dbl&gt;</th><th scope=col>&lt;dbl&gt;</th><th scope=col>&lt;chr&gt;</th></tr>\n",
       "</thead>\n",
       "<tbody>\n",
       "\t<tr><th scope=row>797085</th><td>chr21</td><td>    1</td><td> 2000</td><td>0</td><td>0</td><td>14.130751</td><td>0</td><td>0</td><td>0</td><td>0</td><td>0</td><td>0</td><td>0</td><td>0</td><td>0</td><td>Non-Hub</td></tr>\n",
       "\t<tr><th scope=row>797086</th><td>chr21</td><td> 2001</td><td> 4000</td><td>0</td><td>0</td><td>11.908956</td><td>0</td><td>0</td><td>0</td><td>0</td><td>0</td><td>0</td><td>0</td><td>0</td><td>0</td><td>Non-Hub</td></tr>\n",
       "\t<tr><th scope=row>797087</th><td>chr21</td><td> 4001</td><td> 6000</td><td>0</td><td>0</td><td>12.653900</td><td>0</td><td>0</td><td>0</td><td>0</td><td>0</td><td>0</td><td>0</td><td>0</td><td>0</td><td>Non-Hub</td></tr>\n",
       "\t<tr><th scope=row>797088</th><td>chr21</td><td> 6001</td><td> 8000</td><td>0</td><td>0</td><td> 8.256005</td><td>0</td><td>0</td><td>0</td><td>0</td><td>0</td><td>0</td><td>0</td><td>0</td><td>0</td><td>Non-Hub</td></tr>\n",
       "\t<tr><th scope=row>797089</th><td>chr21</td><td> 8001</td><td>10000</td><td>0</td><td>0</td><td>10.121397</td><td>0</td><td>0</td><td>0</td><td>0</td><td>0</td><td>0</td><td>0</td><td>0</td><td>0</td><td>Non-Hub</td></tr>\n",
       "\t<tr><th scope=row>797090</th><td>chr21</td><td>10001</td><td>12000</td><td>0</td><td>0</td><td>10.524786</td><td>0</td><td>0</td><td>0</td><td>0</td><td>0</td><td>0</td><td>0</td><td>0</td><td>0</td><td>Non-Hub</td></tr>\n",
       "</tbody>\n",
       "</table>\n"
      ],
      "text/latex": [
       "A data.frame: 6 × 16\n",
       "\\begin{tabular}{r|llllllllllllllll}\n",
       "  & chr & start & end & CTCF & EP300 & H3K27me3 & H3K36me3 & H3K4me1 & H3K4me2 & H3K4me3 & H3K9ac & H3K9me3 & RAD21 & RNAPol2 & YY1 & Class\\\\\n",
       "  & <chr> & <int> & <int> & <dbl> & <dbl> & <dbl> & <dbl> & <dbl> & <dbl> & <dbl> & <dbl> & <dbl> & <dbl> & <dbl> & <dbl> & <chr>\\\\\n",
       "\\hline\n",
       "\t797085 & chr21 &     1 &  2000 & 0 & 0 & 14.130751 & 0 & 0 & 0 & 0 & 0 & 0 & 0 & 0 & 0 & Non-Hub\\\\\n",
       "\t797086 & chr21 &  2001 &  4000 & 0 & 0 & 11.908956 & 0 & 0 & 0 & 0 & 0 & 0 & 0 & 0 & 0 & Non-Hub\\\\\n",
       "\t797087 & chr21 &  4001 &  6000 & 0 & 0 & 12.653900 & 0 & 0 & 0 & 0 & 0 & 0 & 0 & 0 & 0 & Non-Hub\\\\\n",
       "\t797088 & chr21 &  6001 &  8000 & 0 & 0 &  8.256005 & 0 & 0 & 0 & 0 & 0 & 0 & 0 & 0 & 0 & Non-Hub\\\\\n",
       "\t797089 & chr21 &  8001 & 10000 & 0 & 0 & 10.121397 & 0 & 0 & 0 & 0 & 0 & 0 & 0 & 0 & 0 & Non-Hub\\\\\n",
       "\t797090 & chr21 & 10001 & 12000 & 0 & 0 & 10.524786 & 0 & 0 & 0 & 0 & 0 & 0 & 0 & 0 & 0 & Non-Hub\\\\\n",
       "\\end{tabular}\n"
      ],
      "text/markdown": [
       "\n",
       "A data.frame: 6 × 16\n",
       "\n",
       "| <!--/--> | chr &lt;chr&gt; | start &lt;int&gt; | end &lt;int&gt; | CTCF &lt;dbl&gt; | EP300 &lt;dbl&gt; | H3K27me3 &lt;dbl&gt; | H3K36me3 &lt;dbl&gt; | H3K4me1 &lt;dbl&gt; | H3K4me2 &lt;dbl&gt; | H3K4me3 &lt;dbl&gt; | H3K9ac &lt;dbl&gt; | H3K9me3 &lt;dbl&gt; | RAD21 &lt;dbl&gt; | RNAPol2 &lt;dbl&gt; | YY1 &lt;dbl&gt; | Class &lt;chr&gt; |\n",
       "|---|---|---|---|---|---|---|---|---|---|---|---|---|---|---|---|---|\n",
       "| 797085 | chr21 |     1 |  2000 | 0 | 0 | 14.130751 | 0 | 0 | 0 | 0 | 0 | 0 | 0 | 0 | 0 | Non-Hub |\n",
       "| 797086 | chr21 |  2001 |  4000 | 0 | 0 | 11.908956 | 0 | 0 | 0 | 0 | 0 | 0 | 0 | 0 | 0 | Non-Hub |\n",
       "| 797087 | chr21 |  4001 |  6000 | 0 | 0 | 12.653900 | 0 | 0 | 0 | 0 | 0 | 0 | 0 | 0 | 0 | Non-Hub |\n",
       "| 797088 | chr21 |  6001 |  8000 | 0 | 0 |  8.256005 | 0 | 0 | 0 | 0 | 0 | 0 | 0 | 0 | 0 | Non-Hub |\n",
       "| 797089 | chr21 |  8001 | 10000 | 0 | 0 | 10.121397 | 0 | 0 | 0 | 0 | 0 | 0 | 0 | 0 | 0 | Non-Hub |\n",
       "| 797090 | chr21 | 10001 | 12000 | 0 | 0 | 10.524786 | 0 | 0 | 0 | 0 | 0 | 0 | 0 | 0 | 0 | Non-Hub |\n",
       "\n"
      ],
      "text/plain": [
       "       chr   start end   CTCF EP300 H3K27me3  H3K36me3 H3K4me1 H3K4me2 H3K4me3\n",
       "797085 chr21     1  2000 0    0     14.130751 0        0       0       0      \n",
       "797086 chr21  2001  4000 0    0     11.908956 0        0       0       0      \n",
       "797087 chr21  4001  6000 0    0     12.653900 0        0       0       0      \n",
       "797088 chr21  6001  8000 0    0      8.256005 0        0       0       0      \n",
       "797089 chr21  8001 10000 0    0     10.121397 0        0       0       0      \n",
       "797090 chr21 10001 12000 0    0     10.524786 0        0       0       0      \n",
       "       H3K9ac H3K9me3 RAD21 RNAPol2 YY1 Class  \n",
       "797085 0      0       0     0       0   Non-Hub\n",
       "797086 0      0       0     0       0   Non-Hub\n",
       "797087 0      0       0     0       0   Non-Hub\n",
       "797088 0      0       0     0       0   Non-Hub\n",
       "797089 0      0       0     0       0   Non-Hub\n",
       "797090 0      0       0     0       0   Non-Hub"
      ]
     },
     "metadata": {},
     "output_type": "display_data"
    }
   ],
   "source": [
    "head(simData)"
   ]
  },
  {
   "cell_type": "code",
   "execution_count": 13,
   "metadata": {},
   "outputs": [
    {
     "data": {
      "text/plain": [
       "\n",
       "    Hub Non-Hub \n",
       "      4   24061 "
      ]
     },
     "metadata": {},
     "output_type": "display_data"
    }
   ],
   "source": [
    "table(simData$Class)"
   ]
  },
  {
   "cell_type": "markdown",
   "metadata": {},
   "source": [
    "With this data, we shall execute the model and examine the results."
   ]
  },
  {
   "cell_type": "code",
   "execution_count": 9,
   "metadata": {},
   "outputs": [],
   "source": [
    "## Loading model\n",
    "\n",
    "load(\"../../results/optimalModels/a549modelLR\")\n",
    "predictions <- predict(a549modelSMOTE, simData[, -c(1:3, 16)], type = \"response\")"
   ]
  },
  {
   "cell_type": "code",
   "execution_count": 10,
   "metadata": {},
   "outputs": [
    {
     "data": {
      "text/html": [
       "<style>\n",
       ".dl-inline {width: auto; margin:0; padding: 0}\n",
       ".dl-inline>dt, .dl-inline>dd {float: none; width: auto; display: inline-block}\n",
       ".dl-inline>dt::after {content: \":\\0020\"; padding-right: .5ex}\n",
       ".dl-inline>dt:not(:first-of-type) {padding-left: .5ex}\n",
       "</style><dl class=dl-inline><dt>797085</dt><dd>0.373920157115043</dd><dt>797086</dt><dd>0.406519321058507</dd><dt>797087</dt><dd>0.395481381850235</dd><dt>797088</dt><dd>0.461818760184918</dd><dt>797089</dt><dd>0.433373903283532</dd><dt>797090</dt><dd>0.427273528387427</dd></dl>\n"
      ],
      "text/latex": [
       "\\begin{description*}\n",
       "\\item[797085] 0.373920157115043\n",
       "\\item[797086] 0.406519321058507\n",
       "\\item[797087] 0.395481381850235\n",
       "\\item[797088] 0.461818760184918\n",
       "\\item[797089] 0.433373903283532\n",
       "\\item[797090] 0.427273528387427\n",
       "\\end{description*}\n"
      ],
      "text/markdown": [
       "797085\n",
       ":   0.373920157115043797086\n",
       ":   0.406519321058507797087\n",
       ":   0.395481381850235797088\n",
       ":   0.461818760184918797089\n",
       ":   0.433373903283532797090\n",
       ":   0.427273528387427\n",
       "\n"
      ],
      "text/plain": [
       "   797085    797086    797087    797088    797089    797090 \n",
       "0.3739202 0.4065193 0.3954814 0.4618188 0.4333739 0.4272735 "
      ]
     },
     "metadata": {},
     "output_type": "display_data"
    }
   ],
   "source": [
    "head(predictions)"
   ]
  },
  {
   "cell_type": "code",
   "execution_count": 15,
   "metadata": {},
   "outputs": [],
   "source": [
    "# Let us turn these into class labels. Recall that 0 for Hub, and 1 for Non-Hub.\n",
    "\n",
    "labels <- ifelse(predictions < 0.5, 0 , 1)"
   ]
  },
  {
   "cell_type": "code",
   "execution_count": 16,
   "metadata": {},
   "outputs": [
    {
     "data": {
      "text/plain": [
       "labels\n",
       "    0     1 \n",
       "24032    33 "
      ]
     },
     "metadata": {},
     "output_type": "display_data"
    }
   ],
   "source": [
    "table(labels)"
   ]
  },
  {
   "cell_type": "code",
   "execution_count": 17,
   "metadata": {},
   "outputs": [
    {
     "data": {
      "text/plain": [
       "classes\n",
       "    Hub Non-Hub \n",
       "  24032      33 "
      ]
     },
     "metadata": {},
     "output_type": "display_data"
    }
   ],
   "source": [
    "## Alternatively\n",
    "\n",
    "classes <- ifelse (labels ==1, \"Non-Hub\", \"Hub\")\n",
    "table(classes)"
   ]
  },
  {
   "cell_type": "markdown",
   "metadata": {},
   "source": [
    "This is a complete contrast to the class labels in the simulated data. Let us see how the model behaves with the original data."
   ]
  },
  {
   "cell_type": "code",
   "execution_count": 19,
   "metadata": {},
   "outputs": [
    {
     "data": {
      "text/html": [
       "<table>\n",
       "<caption>A data.frame: 6 × 16</caption>\n",
       "<thead>\n",
       "\t<tr><th></th><th scope=col>chr</th><th scope=col>start</th><th scope=col>end</th><th scope=col>CTCF</th><th scope=col>EP300</th><th scope=col>H3K27me3</th><th scope=col>H3K36me3</th><th scope=col>H3K4me1</th><th scope=col>H3K4me2</th><th scope=col>H3K4me3</th><th scope=col>H3K9ac</th><th scope=col>H3K9me3</th><th scope=col>RAD21</th><th scope=col>RNAPol2</th><th scope=col>YY1</th><th scope=col>Class</th></tr>\n",
       "\t<tr><th></th><th scope=col>&lt;chr&gt;</th><th scope=col>&lt;int&gt;</th><th scope=col>&lt;int&gt;</th><th scope=col>&lt;dbl&gt;</th><th scope=col>&lt;dbl&gt;</th><th scope=col>&lt;dbl&gt;</th><th scope=col>&lt;dbl&gt;</th><th scope=col>&lt;dbl&gt;</th><th scope=col>&lt;dbl&gt;</th><th scope=col>&lt;dbl&gt;</th><th scope=col>&lt;dbl&gt;</th><th scope=col>&lt;dbl&gt;</th><th scope=col>&lt;dbl&gt;</th><th scope=col>&lt;dbl&gt;</th><th scope=col>&lt;dbl&gt;</th><th scope=col>&lt;chr&gt;</th></tr>\n",
       "</thead>\n",
       "<tbody>\n",
       "\t<tr><th scope=row>1</th><td>chr1</td><td>    1</td><td> 2000</td><td>0</td><td>0</td><td>0.00000000</td><td>0.00000000</td><td>0.00000</td><td>0</td><td>0.00000000</td><td>0.000000</td><td>0.00000000</td><td>0.0000000</td><td>0.00000000</td><td>0.00000000</td><td>Non-Hub</td></tr>\n",
       "\t<tr><th scope=row>2</th><td>chr1</td><td> 2001</td><td> 4000</td><td>0</td><td>0</td><td>0.00000000</td><td>0.00000000</td><td>0.00000</td><td>0</td><td>0.00000000</td><td>0.000000</td><td>0.00000000</td><td>0.0000000</td><td>0.00000000</td><td>0.00000000</td><td>Non-Hub</td></tr>\n",
       "\t<tr><th scope=row>3</th><td>chr1</td><td> 4001</td><td> 6000</td><td>0</td><td>0</td><td>0.00000000</td><td>0.00000000</td><td>0.00000</td><td>0</td><td>0.00000000</td><td>0.000000</td><td>0.00000000</td><td>0.0000000</td><td>0.00000000</td><td>0.00000000</td><td>Non-Hub</td></tr>\n",
       "\t<tr><th scope=row>4</th><td>chr1</td><td> 6001</td><td> 8000</td><td>0</td><td>0</td><td>0.00000000</td><td>0.00000000</td><td>0.00000</td><td>0</td><td>0.00000000</td><td>0.000000</td><td>0.00000000</td><td>0.0000000</td><td>0.00000000</td><td>0.00000000</td><td>Non-Hub</td></tr>\n",
       "\t<tr><th scope=row>5</th><td>chr1</td><td> 8001</td><td>10000</td><td>0</td><td>0</td><td>0.00000000</td><td>0.00000000</td><td>0.00000</td><td>0</td><td>0.00000000</td><td>0.000000</td><td>0.00000000</td><td>0.0000000</td><td>0.00000000</td><td>0.00000000</td><td>Non-Hub</td></tr>\n",
       "\t<tr><th scope=row>6</th><td>chr1</td><td>10001</td><td>12000</td><td>0</td><td>0</td><td>0.02727825</td><td>0.02613314</td><td>1.58534</td><td>0</td><td>0.03331304</td><td>1.537907</td><td>0.02891425</td><td>0.1631014</td><td>0.06050439</td><td>0.05796767</td><td>Non-Hub</td></tr>\n",
       "</tbody>\n",
       "</table>\n"
      ],
      "text/latex": [
       "A data.frame: 6 × 16\n",
       "\\begin{tabular}{r|llllllllllllllll}\n",
       "  & chr & start & end & CTCF & EP300 & H3K27me3 & H3K36me3 & H3K4me1 & H3K4me2 & H3K4me3 & H3K9ac & H3K9me3 & RAD21 & RNAPol2 & YY1 & Class\\\\\n",
       "  & <chr> & <int> & <int> & <dbl> & <dbl> & <dbl> & <dbl> & <dbl> & <dbl> & <dbl> & <dbl> & <dbl> & <dbl> & <dbl> & <dbl> & <chr>\\\\\n",
       "\\hline\n",
       "\t1 & chr1 &     1 &  2000 & 0 & 0 & 0.00000000 & 0.00000000 & 0.00000 & 0 & 0.00000000 & 0.000000 & 0.00000000 & 0.0000000 & 0.00000000 & 0.00000000 & Non-Hub\\\\\n",
       "\t2 & chr1 &  2001 &  4000 & 0 & 0 & 0.00000000 & 0.00000000 & 0.00000 & 0 & 0.00000000 & 0.000000 & 0.00000000 & 0.0000000 & 0.00000000 & 0.00000000 & Non-Hub\\\\\n",
       "\t3 & chr1 &  4001 &  6000 & 0 & 0 & 0.00000000 & 0.00000000 & 0.00000 & 0 & 0.00000000 & 0.000000 & 0.00000000 & 0.0000000 & 0.00000000 & 0.00000000 & Non-Hub\\\\\n",
       "\t4 & chr1 &  6001 &  8000 & 0 & 0 & 0.00000000 & 0.00000000 & 0.00000 & 0 & 0.00000000 & 0.000000 & 0.00000000 & 0.0000000 & 0.00000000 & 0.00000000 & Non-Hub\\\\\n",
       "\t5 & chr1 &  8001 & 10000 & 0 & 0 & 0.00000000 & 0.00000000 & 0.00000 & 0 & 0.00000000 & 0.000000 & 0.00000000 & 0.0000000 & 0.00000000 & 0.00000000 & Non-Hub\\\\\n",
       "\t6 & chr1 & 10001 & 12000 & 0 & 0 & 0.02727825 & 0.02613314 & 1.58534 & 0 & 0.03331304 & 1.537907 & 0.02891425 & 0.1631014 & 0.06050439 & 0.05796767 & Non-Hub\\\\\n",
       "\\end{tabular}\n"
      ],
      "text/markdown": [
       "\n",
       "A data.frame: 6 × 16\n",
       "\n",
       "| <!--/--> | chr &lt;chr&gt; | start &lt;int&gt; | end &lt;int&gt; | CTCF &lt;dbl&gt; | EP300 &lt;dbl&gt; | H3K27me3 &lt;dbl&gt; | H3K36me3 &lt;dbl&gt; | H3K4me1 &lt;dbl&gt; | H3K4me2 &lt;dbl&gt; | H3K4me3 &lt;dbl&gt; | H3K9ac &lt;dbl&gt; | H3K9me3 &lt;dbl&gt; | RAD21 &lt;dbl&gt; | RNAPol2 &lt;dbl&gt; | YY1 &lt;dbl&gt; | Class &lt;chr&gt; |\n",
       "|---|---|---|---|---|---|---|---|---|---|---|---|---|---|---|---|---|\n",
       "| 1 | chr1 |     1 |  2000 | 0 | 0 | 0.00000000 | 0.00000000 | 0.00000 | 0 | 0.00000000 | 0.000000 | 0.00000000 | 0.0000000 | 0.00000000 | 0.00000000 | Non-Hub |\n",
       "| 2 | chr1 |  2001 |  4000 | 0 | 0 | 0.00000000 | 0.00000000 | 0.00000 | 0 | 0.00000000 | 0.000000 | 0.00000000 | 0.0000000 | 0.00000000 | 0.00000000 | Non-Hub |\n",
       "| 3 | chr1 |  4001 |  6000 | 0 | 0 | 0.00000000 | 0.00000000 | 0.00000 | 0 | 0.00000000 | 0.000000 | 0.00000000 | 0.0000000 | 0.00000000 | 0.00000000 | Non-Hub |\n",
       "| 4 | chr1 |  6001 |  8000 | 0 | 0 | 0.00000000 | 0.00000000 | 0.00000 | 0 | 0.00000000 | 0.000000 | 0.00000000 | 0.0000000 | 0.00000000 | 0.00000000 | Non-Hub |\n",
       "| 5 | chr1 |  8001 | 10000 | 0 | 0 | 0.00000000 | 0.00000000 | 0.00000 | 0 | 0.00000000 | 0.000000 | 0.00000000 | 0.0000000 | 0.00000000 | 0.00000000 | Non-Hub |\n",
       "| 6 | chr1 | 10001 | 12000 | 0 | 0 | 0.02727825 | 0.02613314 | 1.58534 | 0 | 0.03331304 | 1.537907 | 0.02891425 | 0.1631014 | 0.06050439 | 0.05796767 | Non-Hub |\n",
       "\n"
      ],
      "text/plain": [
       "  chr  start end   CTCF EP300 H3K27me3   H3K36me3   H3K4me1 H3K4me2 H3K4me3   \n",
       "1 chr1     1  2000 0    0     0.00000000 0.00000000 0.00000 0       0.00000000\n",
       "2 chr1  2001  4000 0    0     0.00000000 0.00000000 0.00000 0       0.00000000\n",
       "3 chr1  4001  6000 0    0     0.00000000 0.00000000 0.00000 0       0.00000000\n",
       "4 chr1  6001  8000 0    0     0.00000000 0.00000000 0.00000 0       0.00000000\n",
       "5 chr1  8001 10000 0    0     0.00000000 0.00000000 0.00000 0       0.00000000\n",
       "6 chr1 10001 12000 0    0     0.02727825 0.02613314 1.58534 0       0.03331304\n",
       "  H3K9ac   H3K9me3    RAD21     RNAPol2    YY1        Class  \n",
       "1 0.000000 0.00000000 0.0000000 0.00000000 0.00000000 Non-Hub\n",
       "2 0.000000 0.00000000 0.0000000 0.00000000 0.00000000 Non-Hub\n",
       "3 0.000000 0.00000000 0.0000000 0.00000000 0.00000000 Non-Hub\n",
       "4 0.000000 0.00000000 0.0000000 0.00000000 0.00000000 Non-Hub\n",
       "5 0.000000 0.00000000 0.0000000 0.00000000 0.00000000 Non-Hub\n",
       "6 1.537907 0.02891425 0.1631014 0.06050439 0.05796767 Non-Hub"
      ]
     },
     "metadata": {},
     "output_type": "display_data"
    }
   ],
   "source": [
    "## Loading the original, full data\n",
    "\n",
    "a549gregStandard <- read.table(\"../../data/A549forML.txt\", header = TRUE)\n",
    "head(a549gregStandard)"
   ]
  },
  {
   "cell_type": "code",
   "execution_count": 21,
   "metadata": {},
   "outputs": [
    {
     "data": {
      "text/plain": [
       "\n",
       "    Hub Non-Hub \n",
       "   1948 1546344 "
      ]
     },
     "metadata": {},
     "output_type": "display_data"
    }
   ],
   "source": [
    "table(a549gregStandard$Class)"
   ]
  },
  {
   "cell_type": "code",
   "execution_count": 24,
   "metadata": {},
   "outputs": [
    {
     "data": {
      "text/html": [
       "<table>\n",
       "<caption>A data.frame: 6 × 16</caption>\n",
       "<thead>\n",
       "\t<tr><th></th><th scope=col>chr</th><th scope=col>start</th><th scope=col>end</th><th scope=col>CTCF</th><th scope=col>EP300</th><th scope=col>H3K27me3</th><th scope=col>H3K36me3</th><th scope=col>H3K4me1</th><th scope=col>H3K4me2</th><th scope=col>H3K4me3</th><th scope=col>H3K9ac</th><th scope=col>H3K9me3</th><th scope=col>RAD21</th><th scope=col>RNAPol2</th><th scope=col>YY1</th><th scope=col>Class</th></tr>\n",
       "\t<tr><th></th><th scope=col>&lt;chr&gt;</th><th scope=col>&lt;int&gt;</th><th scope=col>&lt;int&gt;</th><th scope=col>&lt;dbl&gt;</th><th scope=col>&lt;dbl&gt;</th><th scope=col>&lt;dbl&gt;</th><th scope=col>&lt;dbl&gt;</th><th scope=col>&lt;dbl&gt;</th><th scope=col>&lt;dbl&gt;</th><th scope=col>&lt;dbl&gt;</th><th scope=col>&lt;dbl&gt;</th><th scope=col>&lt;dbl&gt;</th><th scope=col>&lt;dbl&gt;</th><th scope=col>&lt;dbl&gt;</th><th scope=col>&lt;dbl&gt;</th><th scope=col>&lt;chr&gt;</th></tr>\n",
       "</thead>\n",
       "<tbody>\n",
       "\t<tr><th scope=row>797085</th><td>chr21</td><td>    1</td><td> 2000</td><td>0</td><td>0</td><td>0</td><td>0</td><td>0</td><td>0</td><td>0</td><td>0</td><td>0</td><td>0</td><td>0</td><td>0</td><td>Non-Hub</td></tr>\n",
       "\t<tr><th scope=row>797086</th><td>chr21</td><td> 2001</td><td> 4000</td><td>0</td><td>0</td><td>0</td><td>0</td><td>0</td><td>0</td><td>0</td><td>0</td><td>0</td><td>0</td><td>0</td><td>0</td><td>Non-Hub</td></tr>\n",
       "\t<tr><th scope=row>797087</th><td>chr21</td><td> 4001</td><td> 6000</td><td>0</td><td>0</td><td>0</td><td>0</td><td>0</td><td>0</td><td>0</td><td>0</td><td>0</td><td>0</td><td>0</td><td>0</td><td>Non-Hub</td></tr>\n",
       "\t<tr><th scope=row>797088</th><td>chr21</td><td> 6001</td><td> 8000</td><td>0</td><td>0</td><td>0</td><td>0</td><td>0</td><td>0</td><td>0</td><td>0</td><td>0</td><td>0</td><td>0</td><td>0</td><td>Non-Hub</td></tr>\n",
       "\t<tr><th scope=row>797089</th><td>chr21</td><td> 8001</td><td>10000</td><td>0</td><td>0</td><td>0</td><td>0</td><td>0</td><td>0</td><td>0</td><td>0</td><td>0</td><td>0</td><td>0</td><td>0</td><td>Non-Hub</td></tr>\n",
       "\t<tr><th scope=row>797090</th><td>chr21</td><td>10001</td><td>12000</td><td>0</td><td>0</td><td>0</td><td>0</td><td>0</td><td>0</td><td>0</td><td>0</td><td>0</td><td>0</td><td>0</td><td>0</td><td>Non-Hub</td></tr>\n",
       "</tbody>\n",
       "</table>\n"
      ],
      "text/latex": [
       "A data.frame: 6 × 16\n",
       "\\begin{tabular}{r|llllllllllllllll}\n",
       "  & chr & start & end & CTCF & EP300 & H3K27me3 & H3K36me3 & H3K4me1 & H3K4me2 & H3K4me3 & H3K9ac & H3K9me3 & RAD21 & RNAPol2 & YY1 & Class\\\\\n",
       "  & <chr> & <int> & <int> & <dbl> & <dbl> & <dbl> & <dbl> & <dbl> & <dbl> & <dbl> & <dbl> & <dbl> & <dbl> & <dbl> & <dbl> & <chr>\\\\\n",
       "\\hline\n",
       "\t797085 & chr21 &     1 &  2000 & 0 & 0 & 0 & 0 & 0 & 0 & 0 & 0 & 0 & 0 & 0 & 0 & Non-Hub\\\\\n",
       "\t797086 & chr21 &  2001 &  4000 & 0 & 0 & 0 & 0 & 0 & 0 & 0 & 0 & 0 & 0 & 0 & 0 & Non-Hub\\\\\n",
       "\t797087 & chr21 &  4001 &  6000 & 0 & 0 & 0 & 0 & 0 & 0 & 0 & 0 & 0 & 0 & 0 & 0 & Non-Hub\\\\\n",
       "\t797088 & chr21 &  6001 &  8000 & 0 & 0 & 0 & 0 & 0 & 0 & 0 & 0 & 0 & 0 & 0 & 0 & Non-Hub\\\\\n",
       "\t797089 & chr21 &  8001 & 10000 & 0 & 0 & 0 & 0 & 0 & 0 & 0 & 0 & 0 & 0 & 0 & 0 & Non-Hub\\\\\n",
       "\t797090 & chr21 & 10001 & 12000 & 0 & 0 & 0 & 0 & 0 & 0 & 0 & 0 & 0 & 0 & 0 & 0 & Non-Hub\\\\\n",
       "\\end{tabular}\n"
      ],
      "text/markdown": [
       "\n",
       "A data.frame: 6 × 16\n",
       "\n",
       "| <!--/--> | chr &lt;chr&gt; | start &lt;int&gt; | end &lt;int&gt; | CTCF &lt;dbl&gt; | EP300 &lt;dbl&gt; | H3K27me3 &lt;dbl&gt; | H3K36me3 &lt;dbl&gt; | H3K4me1 &lt;dbl&gt; | H3K4me2 &lt;dbl&gt; | H3K4me3 &lt;dbl&gt; | H3K9ac &lt;dbl&gt; | H3K9me3 &lt;dbl&gt; | RAD21 &lt;dbl&gt; | RNAPol2 &lt;dbl&gt; | YY1 &lt;dbl&gt; | Class &lt;chr&gt; |\n",
       "|---|---|---|---|---|---|---|---|---|---|---|---|---|---|---|---|---|\n",
       "| 797085 | chr21 |     1 |  2000 | 0 | 0 | 0 | 0 | 0 | 0 | 0 | 0 | 0 | 0 | 0 | 0 | Non-Hub |\n",
       "| 797086 | chr21 |  2001 |  4000 | 0 | 0 | 0 | 0 | 0 | 0 | 0 | 0 | 0 | 0 | 0 | 0 | Non-Hub |\n",
       "| 797087 | chr21 |  4001 |  6000 | 0 | 0 | 0 | 0 | 0 | 0 | 0 | 0 | 0 | 0 | 0 | 0 | Non-Hub |\n",
       "| 797088 | chr21 |  6001 |  8000 | 0 | 0 | 0 | 0 | 0 | 0 | 0 | 0 | 0 | 0 | 0 | 0 | Non-Hub |\n",
       "| 797089 | chr21 |  8001 | 10000 | 0 | 0 | 0 | 0 | 0 | 0 | 0 | 0 | 0 | 0 | 0 | 0 | Non-Hub |\n",
       "| 797090 | chr21 | 10001 | 12000 | 0 | 0 | 0 | 0 | 0 | 0 | 0 | 0 | 0 | 0 | 0 | 0 | Non-Hub |\n",
       "\n"
      ],
      "text/plain": [
       "       chr   start end   CTCF EP300 H3K27me3 H3K36me3 H3K4me1 H3K4me2 H3K4me3\n",
       "797085 chr21     1  2000 0    0     0        0        0       0       0      \n",
       "797086 chr21  2001  4000 0    0     0        0        0       0       0      \n",
       "797087 chr21  4001  6000 0    0     0        0        0       0       0      \n",
       "797088 chr21  6001  8000 0    0     0        0        0       0       0      \n",
       "797089 chr21  8001 10000 0    0     0        0        0       0       0      \n",
       "797090 chr21 10001 12000 0    0     0        0        0       0       0      \n",
       "       H3K9ac H3K9me3 RAD21 RNAPol2 YY1 Class  \n",
       "797085 0      0       0     0       0   Non-Hub\n",
       "797086 0      0       0     0       0   Non-Hub\n",
       "797087 0      0       0     0       0   Non-Hub\n",
       "797088 0      0       0     0       0   Non-Hub\n",
       "797089 0      0       0     0       0   Non-Hub\n",
       "797090 0      0       0     0       0   Non-Hub"
      ]
     },
     "metadata": {},
     "output_type": "display_data"
    }
   ],
   "source": [
    "## Pruning data for Chromosome 21 only.\n",
    "\n",
    "a549gregStandardChr21 <- a549gregStandard[a549gregStandard$chr == \"chr21\", ]\n",
    "head(a549gregStandardChr21)"
   ]
  },
  {
   "cell_type": "code",
   "execution_count": 25,
   "metadata": {},
   "outputs": [
    {
     "data": {
      "text/plain": [
       "labels1\n",
       "    0     1 \n",
       " 3028 21037 "
      ]
     },
     "metadata": {},
     "output_type": "display_data"
    }
   ],
   "source": [
    "predictions1 <- predict(a549modelSMOTE, a549gregStandardChr21[, -c(1:3, 16)], type = \"response\")\n",
    "labels1 <- ifelse(predictions1 < 0.5, 0 , 1)\n",
    "table(labels1)"
   ]
  },
  {
   "cell_type": "markdown",
   "metadata": {},
   "source": [
    "Clearly, in the original data, there were more non-hubs than hubs."
   ]
  },
  {
   "cell_type": "code",
   "execution_count": null,
   "metadata": {},
   "outputs": [],
   "source": []
  }
 ],
 "metadata": {
  "kernelspec": {
   "display_name": "R",
   "language": "R",
   "name": "ir"
  },
  "language_info": {
   "codemirror_mode": "r",
   "file_extension": ".r",
   "mimetype": "text/x-r-source",
   "name": "R",
   "pygments_lexer": "r",
   "version": "4.0.2"
  }
 },
 "nbformat": 4,
 "nbformat_minor": 4
}
