{
 "cells": [
  {
   "cell_type": "markdown",
   "metadata": {},
   "source": [
    "## Overall Conclusions on the runs of Logistic Regression and Random Forests"
   ]
  },
  {
   "cell_type": "markdown",
   "metadata": {},
   "source": [
    "## Background"
   ]
  },
  {
   "cell_type": "markdown",
   "metadata": {},
   "source": [
    "<p align = 'justify'> So, we set the stage with a optimal ML model which has been derived previously and the read-coverage data for each cell-type. In this section though, we'll taper the data for Chromosome 21 only and will tweak the data for the feature that has been found most influencial for the machine learning models (<b>Logistic Regression</b> and <b>Random Forests</b>). </p>\n",
    "<p align = 'justify'> For the linear models of Logistic Regression, we'll pick the variable that has the lowest p-value and Variance Inflation Factor (VIF). For Random Forests, we'll pick the \"most important variable\" engendered by the <b>varImp</b> function. The results are tabulated as below.</p>"
   ]
  },
  {
   "cell_type": "markdown",
   "metadata": {},
   "source": [
    "| S.No. | Algorithm | Optimum Model | Sensitivity (%) | Specificity (%) | Accuracy (%) | Cell Line | Significant Variable\n",
    "| --- | --- | --- | --- | --- | --- | --- | ---\n",
    "| 1. | Logistic Regression | a549modelSMOTE | 69.49417 | 51.4377 | 69.46981 | A549 | H3K27me3\n",
    "| 2. | Logistic Regression | h1escparetoModelSmote | 58.99516 | 53.49026 | 58.98057 | H1ESC | H3K36me3\n",
    "| 3. | Logistic Regression | helamodel1SMOTE | 75.37186 | 53.48485 | 75.34016 | HELA | RNAPol2\n",
    "| 4. | Logistic Regression | imr90paretoModelSmote | 61.66091 | 56.12334 | 60.85818 | IMR90 | H3K9me3\n",
    "| 5. | Logistic Regression | k562modelUnder1 | 72.1866 | 55.47826 | 72.14441 | K562 | H3K27me3\n",
    "| 6. | Logistic Regression | mcf7model1Under | 78.25222 | 54.38043 | 78.12211 | MCF7 | RNA.Seq\n",
    "| 7. | Random Forests | a549rfSmote | 95.69667 | 34.30079 | 95.62169 | A549 | RNAPol2\n",
    "| 8. | Random Forests | h1escrf1 | 99.26789 | 52.55973 | 99.13568 | H1ESC | H3K27me3\n",
    "| 9. | Random Forests | helarf1 | 97.23307 | 46.12069 | 97.15515 | HELA | RNAPol2\n",
    "| 10. | Random Forests | imr90rf1 | 89.32611 | 79.01205 | 87.82932 | IMR90 | H3K27me3\n",
    "| 11. | Random Forests | k562rf1 | 99.52067 | 86.23853 | 99.48906 | K562 | H3K4me1\n",
    "| 12. | Random Forests | mcf7rf1 | 97.63652 | 76.89394 | 97.51932 | MCF7 | RAD21\n"
   ]
  }
 ],
 "metadata": {
  "kernelspec": {
   "display_name": "R",
   "language": "R",
   "name": "ir"
  },
  "language_info": {
   "codemirror_mode": "r",
   "file_extension": ".r",
   "mimetype": "text/x-r-source",
   "name": "R",
   "pygments_lexer": "r",
   "version": "4.0.2"
  }
 },
 "nbformat": 4,
 "nbformat_minor": 4
}
