{
 "cells": [
  {
   "cell_type": "markdown",
   "metadata": {},
   "source": [
    "# Prediction of Transcription Factories: A Machine Learning Blueprint"
   ]
  },
  {
   "cell_type": "markdown",
   "metadata": {},
   "source": [
    "Transcription Factories are those purported sites that have been identified as the breeding grounds for transcripts. Their relevance heightens when the spatial organization of the genome is considered. Since transcription factories attract distant segments of the genome together for inter-mingling and possibly carrying out regulation, true picture emerges of the parts that co-localize and co-express. This has been a major lacuna in the dogma of the current suite of enrichment tools for genomic regions."
   ]
  },
  {
   "cell_type": "markdown",
   "metadata": {},
   "source": [
    "## Setting up Target Genomic Regions"
   ]
  },
  {
   "cell_type": "markdown",
   "metadata": {},
   "source": [
    "In cognizance to [GREG](http://www.dx.doi.org/10.1093/database/baz162), we define genomic regions with a 2 kilobase bin size. These shall be the pivots corresponding to which the features with read counts shall be hinged. Additionally, we want to make our BED file [1-based](http://genome.ucsc.edu/FAQ/FAQformat.html#format1), to align with the format in GREG. "
   ]
  },
  {
   "cell_type": "markdown",
   "metadata": {},
   "source": [
    "From the chromosome size definitions available in the loaded package, we create an index as follows. This shall be the premises on which our genomic bins shall be carved out."
   ]
  },
  {
   "cell_type": "markdown",
   "metadata": {},
   "source": [
    "The function **tileGenome** allows to structure a definitive GenomicRanges object."
   ]
  },
  {
   "cell_type": "code",
   "execution_count": 19,
   "metadata": {},
   "outputs": [],
   "source": [
    "export.bed(Bins2k, \"temp.bed\")"
   ]
  },
  {
   "cell_type": "code",
   "execution_count": 16,
   "metadata": {},
   "outputs": [
    {
     "data": {
      "text/html": [
       "<table>\n",
       "<caption>A data.frame: 6 × 3</caption>\n",
       "<thead>\n",
       "\t<tr><th></th><th scope=col>Chrom</th><th scope=col>Start</th><th scope=col>End</th></tr>\n",
       "\t<tr><th></th><th scope=col>&lt;fct&gt;</th><th scope=col>&lt;int&gt;</th><th scope=col>&lt;int&gt;</th></tr>\n",
       "</thead>\n",
       "<tbody>\n",
       "\t<tr><th scope=row>1</th><td>chr1</td><td>    1</td><td> 2000</td></tr>\n",
       "\t<tr><th scope=row>2</th><td>chr1</td><td> 2001</td><td> 4000</td></tr>\n",
       "\t<tr><th scope=row>3</th><td>chr1</td><td> 4001</td><td> 6000</td></tr>\n",
       "\t<tr><th scope=row>4</th><td>chr1</td><td> 6001</td><td> 8000</td></tr>\n",
       "\t<tr><th scope=row>5</th><td>chr1</td><td> 8001</td><td>10000</td></tr>\n",
       "\t<tr><th scope=row>6</th><td>chr1</td><td>10001</td><td>12000</td></tr>\n",
       "</tbody>\n",
       "</table>\n"
      ],
      "text/latex": [
       "A data.frame: 6 × 3\n",
       "\\begin{tabular}{r|lll}\n",
       "  & Chrom & Start & End\\\\\n",
       "  & <fct> & <int> & <int>\\\\\n",
       "\\hline\n",
       "\t1 & chr1 &     1 &  2000\\\\\n",
       "\t2 & chr1 &  2001 &  4000\\\\\n",
       "\t3 & chr1 &  4001 &  6000\\\\\n",
       "\t4 & chr1 &  6001 &  8000\\\\\n",
       "\t5 & chr1 &  8001 & 10000\\\\\n",
       "\t6 & chr1 & 10001 & 12000\\\\\n",
       "\\end{tabular}\n"
      ],
      "text/markdown": [
       "\n",
       "A data.frame: 6 × 3\n",
       "\n",
       "| <!--/--> | Chrom &lt;fct&gt; | Start &lt;int&gt; | End &lt;int&gt; |\n",
       "|---|---|---|---|\n",
       "| 1 | chr1 |     1 |  2000 |\n",
       "| 2 | chr1 |  2001 |  4000 |\n",
       "| 3 | chr1 |  4001 |  6000 |\n",
       "| 4 | chr1 |  6001 |  8000 |\n",
       "| 5 | chr1 |  8001 | 10000 |\n",
       "| 6 | chr1 | 10001 | 12000 |\n",
       "\n"
      ],
      "text/plain": [
       "  Chrom Start End  \n",
       "1 chr1      1  2000\n",
       "2 chr1   2001  4000\n",
       "3 chr1   4001  6000\n",
       "4 chr1   6001  8000\n",
       "5 chr1   8001 10000\n",
       "6 chr1  10001 12000"
      ]
     },
     "metadata": {},
     "output_type": "display_data"
    }
   ],
   "source": [
    "targetBED <- as.data.frame(Bins2k)\n",
    "targetBED <- targetBED[, 1:3]\n",
    "colnames(targetBED) <- c(\"Chrom\", \"Start\", \"End\")\n",
    "head(targetBED)\n",
    "write.table(targetBED, file = \"hg19_2K_bins.bed\")"
   ]
  },
  {
   "cell_type": "markdown",
   "metadata": {},
   "source": [
    "These are the regions where the read counts need to be mapped."
   ]
  },
  {
   "cell_type": "markdown",
   "metadata": {},
   "source": [
    "## Feature Files "
   ]
  },
  {
   "cell_type": "markdown",
   "metadata": {},
   "source": [
    "For exemplifying, let's pick up ChIP-Seq data for epigenetic marks - H3K4me1, H3K4me2, H3K4me3, and H3K27ac for the H1 hESC cell line.(WIP; More instances to follow)"
   ]
  },
  {
   "cell_type": "markdown",
   "metadata": {},
   "source": [
    "![](siftingBAM.jpg)"
   ]
  },
  {
   "cell_type": "markdown",
   "metadata": {},
   "source": [
    "The BAM file is indexed first."
   ]
  },
  {
   "cell_type": "code",
   "execution_count": 6,
   "metadata": {},
   "outputs": [],
   "source": [
    "system(\"samtools index -b /Users/soumyajauhari/Desktop/Machine_Learning/Machine_Learning_Deep_Learning/data/H1_Cell_Line/H3K27ac/ENCFF663SAM.bam\")\n",
    "system(\"samtools index -b /Users/soumyajauhari/Desktop/Machine_Learning/Machine_Learning_Deep_Learning/data/H1_Cell_Line/H3K4me1/ENCFF441KOL.bam\")\n",
    "system(\"samtools index -b /Users/soumyajauhari/Desktop/Machine_Learning/Machine_Learning_Deep_Learning/data/H1_Cell_Line/H3K4me2/ENCFF799BDH.bam\")\n",
    "system(\"samtools index -b /Users/soumyajauhari/Desktop/Machine_Learning/Machine_Learning_Deep_Learning/data/H1_Cell_Line/H3K4me3/ENCFF340UJK.bam\")"
   ]
  },
  {
   "cell_type": "markdown",
   "metadata": {},
   "source": [
    "Now that we have the index files along, we proceed towards getting read counts for our defined bin-size.  We achieve this via deeptools suite, a function called *multiBAMSummary*. "
   ]
  },
  {
   "cell_type": "code",
   "execution_count": 20,
   "metadata": {},
   "outputs": [],
   "source": [
    "## The bash script can be viewed at the terminal.\n",
    "\n",
    "system(\"bash deepToolsmultiBAMSummary.sh\")"
   ]
  },
  {
   "cell_type": "code",
   "execution_count": 55,
   "metadata": {},
   "outputs": [],
   "source": [
    "countMatrix <- read.table(\"readCountsFromBED.tab\", header = FALSE, sep=\"\\t\", quote=\"\")"
   ]
  },
  {
   "cell_type": "code",
   "execution_count": 56,
   "metadata": {},
   "outputs": [
    {
     "data": {
      "text/html": [
       "<table>\n",
       "<caption>A data.frame: 6 × 7</caption>\n",
       "<thead>\n",
       "\t<tr><th></th><th scope=col>Chrom</th><th scope=col>Start</th><th scope=col>End</th><th scope=col>H3K4me1</th><th scope=col>H3K4me2</th><th scope=col>H3K4me3</th><th scope=col>H3K27ac</th></tr>\n",
       "\t<tr><th></th><th scope=col>&lt;fct&gt;</th><th scope=col>&lt;int&gt;</th><th scope=col>&lt;int&gt;</th><th scope=col>&lt;dbl&gt;</th><th scope=col>&lt;dbl&gt;</th><th scope=col>&lt;dbl&gt;</th><th scope=col>&lt;dbl&gt;</th></tr>\n",
       "</thead>\n",
       "<tbody>\n",
       "\t<tr><th scope=row>1</th><td>chr1</td><td>    0</td><td> 2000</td><td>0</td><td>0</td><td>0</td><td>0</td></tr>\n",
       "\t<tr><th scope=row>2</th><td>chr1</td><td> 2000</td><td> 4000</td><td>0</td><td>0</td><td>0</td><td>0</td></tr>\n",
       "\t<tr><th scope=row>3</th><td>chr1</td><td> 4000</td><td> 6000</td><td>0</td><td>0</td><td>0</td><td>0</td></tr>\n",
       "\t<tr><th scope=row>4</th><td>chr1</td><td> 6000</td><td> 8000</td><td>0</td><td>0</td><td>0</td><td>0</td></tr>\n",
       "\t<tr><th scope=row>5</th><td>chr1</td><td> 8000</td><td>10000</td><td>1</td><td>0</td><td>0</td><td>0</td></tr>\n",
       "\t<tr><th scope=row>6</th><td>chr1</td><td>10000</td><td>12000</td><td>1</td><td>0</td><td>0</td><td>0</td></tr>\n",
       "</tbody>\n",
       "</table>\n"
      ],
      "text/latex": [
       "A data.frame: 6 × 7\n",
       "\\begin{tabular}{r|lllllll}\n",
       "  & Chrom & Start & End & H3K4me1 & H3K4me2 & H3K4me3 & H3K27ac\\\\\n",
       "  & <fct> & <int> & <int> & <dbl> & <dbl> & <dbl> & <dbl>\\\\\n",
       "\\hline\n",
       "\t1 & chr1 &     0 &  2000 & 0 & 0 & 0 & 0\\\\\n",
       "\t2 & chr1 &  2000 &  4000 & 0 & 0 & 0 & 0\\\\\n",
       "\t3 & chr1 &  4000 &  6000 & 0 & 0 & 0 & 0\\\\\n",
       "\t4 & chr1 &  6000 &  8000 & 0 & 0 & 0 & 0\\\\\n",
       "\t5 & chr1 &  8000 & 10000 & 1 & 0 & 0 & 0\\\\\n",
       "\t6 & chr1 & 10000 & 12000 & 1 & 0 & 0 & 0\\\\\n",
       "\\end{tabular}\n"
      ],
      "text/markdown": [
       "\n",
       "A data.frame: 6 × 7\n",
       "\n",
       "| <!--/--> | Chrom &lt;fct&gt; | Start &lt;int&gt; | End &lt;int&gt; | H3K4me1 &lt;dbl&gt; | H3K4me2 &lt;dbl&gt; | H3K4me3 &lt;dbl&gt; | H3K27ac &lt;dbl&gt; |\n",
       "|---|---|---|---|---|---|---|---|\n",
       "| 1 | chr1 |     0 |  2000 | 0 | 0 | 0 | 0 |\n",
       "| 2 | chr1 |  2000 |  4000 | 0 | 0 | 0 | 0 |\n",
       "| 3 | chr1 |  4000 |  6000 | 0 | 0 | 0 | 0 |\n",
       "| 4 | chr1 |  6000 |  8000 | 0 | 0 | 0 | 0 |\n",
       "| 5 | chr1 |  8000 | 10000 | 1 | 0 | 0 | 0 |\n",
       "| 6 | chr1 | 10000 | 12000 | 1 | 0 | 0 | 0 |\n",
       "\n"
      ],
      "text/plain": [
       "  Chrom Start End   H3K4me1 H3K4me2 H3K4me3 H3K27ac\n",
       "1 chr1      0  2000 0       0       0       0      \n",
       "2 chr1   2000  4000 0       0       0       0      \n",
       "3 chr1   4000  6000 0       0       0       0      \n",
       "4 chr1   6000  8000 0       0       0       0      \n",
       "5 chr1   8000 10000 1       0       0       0      \n",
       "6 chr1  10000 12000 1       0       0       0      "
      ]
     },
     "metadata": {},
     "output_type": "display_data"
    }
   ],
   "source": [
    "## Renaming columns of read counts on the order of execution\n",
    "\n",
    "colnames (countMatrix) <- c(\"Chrom\", \"Start\", \"End\", \"H3K4me1\", \"H3K4me2\", \"H3K4me3\", \"H3K27ac\")\n",
    "head(countMatrix)"
   ]
  },
  {
   "cell_type": "code",
   "execution_count": 57,
   "metadata": {},
   "outputs": [
    {
     "data": {
      "text/html": [
       "<table>\n",
       "<caption>A data.frame: 6 × 7</caption>\n",
       "<thead>\n",
       "\t<tr><th></th><th scope=col>Chrom</th><th scope=col>Start</th><th scope=col>End</th><th scope=col>H3K4me1</th><th scope=col>H3K4me2</th><th scope=col>H3K4me3</th><th scope=col>H3K27ac</th></tr>\n",
       "\t<tr><th></th><th scope=col>&lt;fct&gt;</th><th scope=col>&lt;dbl&gt;</th><th scope=col>&lt;int&gt;</th><th scope=col>&lt;dbl&gt;</th><th scope=col>&lt;dbl&gt;</th><th scope=col>&lt;dbl&gt;</th><th scope=col>&lt;dbl&gt;</th></tr>\n",
       "</thead>\n",
       "<tbody>\n",
       "\t<tr><th scope=row>1</th><td>chr1</td><td>    1</td><td> 2000</td><td>0</td><td>0</td><td>0</td><td>0</td></tr>\n",
       "\t<tr><th scope=row>2</th><td>chr1</td><td> 2001</td><td> 4000</td><td>0</td><td>0</td><td>0</td><td>0</td></tr>\n",
       "\t<tr><th scope=row>3</th><td>chr1</td><td> 4001</td><td> 6000</td><td>0</td><td>0</td><td>0</td><td>0</td></tr>\n",
       "\t<tr><th scope=row>4</th><td>chr1</td><td> 6001</td><td> 8000</td><td>0</td><td>0</td><td>0</td><td>0</td></tr>\n",
       "\t<tr><th scope=row>5</th><td>chr1</td><td> 8001</td><td>10000</td><td>1</td><td>0</td><td>0</td><td>0</td></tr>\n",
       "\t<tr><th scope=row>6</th><td>chr1</td><td>10001</td><td>12000</td><td>1</td><td>0</td><td>0</td><td>0</td></tr>\n",
       "</tbody>\n",
       "</table>\n"
      ],
      "text/latex": [
       "A data.frame: 6 × 7\n",
       "\\begin{tabular}{r|lllllll}\n",
       "  & Chrom & Start & End & H3K4me1 & H3K4me2 & H3K4me3 & H3K27ac\\\\\n",
       "  & <fct> & <dbl> & <int> & <dbl> & <dbl> & <dbl> & <dbl>\\\\\n",
       "\\hline\n",
       "\t1 & chr1 &     1 &  2000 & 0 & 0 & 0 & 0\\\\\n",
       "\t2 & chr1 &  2001 &  4000 & 0 & 0 & 0 & 0\\\\\n",
       "\t3 & chr1 &  4001 &  6000 & 0 & 0 & 0 & 0\\\\\n",
       "\t4 & chr1 &  6001 &  8000 & 0 & 0 & 0 & 0\\\\\n",
       "\t5 & chr1 &  8001 & 10000 & 1 & 0 & 0 & 0\\\\\n",
       "\t6 & chr1 & 10001 & 12000 & 1 & 0 & 0 & 0\\\\\n",
       "\\end{tabular}\n"
      ],
      "text/markdown": [
       "\n",
       "A data.frame: 6 × 7\n",
       "\n",
       "| <!--/--> | Chrom &lt;fct&gt; | Start &lt;dbl&gt; | End &lt;int&gt; | H3K4me1 &lt;dbl&gt; | H3K4me2 &lt;dbl&gt; | H3K4me3 &lt;dbl&gt; | H3K27ac &lt;dbl&gt; |\n",
       "|---|---|---|---|---|---|---|---|\n",
       "| 1 | chr1 |     1 |  2000 | 0 | 0 | 0 | 0 |\n",
       "| 2 | chr1 |  2001 |  4000 | 0 | 0 | 0 | 0 |\n",
       "| 3 | chr1 |  4001 |  6000 | 0 | 0 | 0 | 0 |\n",
       "| 4 | chr1 |  6001 |  8000 | 0 | 0 | 0 | 0 |\n",
       "| 5 | chr1 |  8001 | 10000 | 1 | 0 | 0 | 0 |\n",
       "| 6 | chr1 | 10001 | 12000 | 1 | 0 | 0 | 0 |\n",
       "\n"
      ],
      "text/plain": [
       "  Chrom Start End   H3K4me1 H3K4me2 H3K4me3 H3K27ac\n",
       "1 chr1      1  2000 0       0       0       0      \n",
       "2 chr1   2001  4000 0       0       0       0      \n",
       "3 chr1   4001  6000 0       0       0       0      \n",
       "4 chr1   6001  8000 0       0       0       0      \n",
       "5 chr1   8001 10000 1       0       0       0      \n",
       "6 chr1  10001 12000 1       0       0       0      "
      ]
     },
     "metadata": {},
     "output_type": "display_data"
    }
   ],
   "source": [
    "## To make it consistent with GREG and 1-based UCSC format.\n",
    "\n",
    "countMatrix$Start <- countMatrix$Start + 1 \n",
    "head(countMatrix)"
   ]
  },
  {
   "cell_type": "code",
   "execution_count": 58,
   "metadata": {},
   "outputs": [
    {
     "name": "stdout",
     "output_type": "stream",
     "text": [
      "The row count for H3K4me1 reads is 8956558 \n",
      "The row count for H3K4me2 reads is 11751166 \n",
      "The row count for H3K4me3 reads is 12576587 \n",
      "The row count for H3K27ac reads is 13818969"
     ]
    }
   ],
   "source": [
    "## The total number of reads for the corresponding epigenetic marks are worthy to note and reason the need for normalization.\n",
    "\n",
    "cat(\"The row count for H3K4me1 reads is\", sum(countMatrix$H3K4me1),\"\\n\")\n",
    "cat(\"The row count for H3K4me2 reads is\", sum(countMatrix$H3K4me2),\"\\n\")\n",
    "cat(\"The row count for H3K4me3 reads is\", sum(countMatrix$H3K4me3),\"\\n\")\n",
    "cat(\"The row count for H3K27ac reads is\", sum(countMatrix$H3K27ac))"
   ]
  },
  {
   "cell_type": "code",
   "execution_count": 45,
   "metadata": {},
   "outputs": [
    {
     "data": {
      "text/html": [
       "<table>\n",
       "<caption>A data.frame: 6 × 7</caption>\n",
       "<thead>\n",
       "\t<tr><th></th><th scope=col>Chrom</th><th scope=col>Start</th><th scope=col>End</th><th scope=col>H3K4me1</th><th scope=col>H3K4me2</th><th scope=col>H3K4me3</th><th scope=col>H3K27ac</th></tr>\n",
       "\t<tr><th></th><th scope=col>&lt;fct&gt;</th><th scope=col>&lt;dbl&gt;</th><th scope=col>&lt;int&gt;</th><th scope=col>&lt;dbl&gt;</th><th scope=col>&lt;dbl&gt;</th><th scope=col>&lt;dbl&gt;</th><th scope=col>&lt;dbl&gt;</th></tr>\n",
       "</thead>\n",
       "<tbody>\n",
       "\t<tr><th scope=row>1</th><td>chr1</td><td>    1</td><td> 2000</td><td>0.00000</td><td>0</td><td>0</td><td>0</td></tr>\n",
       "\t<tr><th scope=row>2</th><td>chr1</td><td> 2001</td><td> 4000</td><td>0.00000</td><td>0</td><td>0</td><td>0</td></tr>\n",
       "\t<tr><th scope=row>3</th><td>chr1</td><td> 4001</td><td> 6000</td><td>0.00000</td><td>0</td><td>0</td><td>0</td></tr>\n",
       "\t<tr><th scope=row>4</th><td>chr1</td><td> 6001</td><td> 8000</td><td>0.00000</td><td>0</td><td>0</td><td>0</td></tr>\n",
       "\t<tr><th scope=row>5</th><td>chr1</td><td> 8001</td><td>10000</td><td>0.11165</td><td>0</td><td>0</td><td>0</td></tr>\n",
       "\t<tr><th scope=row>6</th><td>chr1</td><td>10001</td><td>12000</td><td>0.11165</td><td>0</td><td>0</td><td>0</td></tr>\n",
       "</tbody>\n",
       "</table>\n"
      ],
      "text/latex": [
       "A data.frame: 6 × 7\n",
       "\\begin{tabular}{r|lllllll}\n",
       "  & Chrom & Start & End & H3K4me1 & H3K4me2 & H3K4me3 & H3K27ac\\\\\n",
       "  & <fct> & <dbl> & <int> & <dbl> & <dbl> & <dbl> & <dbl>\\\\\n",
       "\\hline\n",
       "\t1 & chr1 &     1 &  2000 & 0.00000 & 0 & 0 & 0\\\\\n",
       "\t2 & chr1 &  2001 &  4000 & 0.00000 & 0 & 0 & 0\\\\\n",
       "\t3 & chr1 &  4001 &  6000 & 0.00000 & 0 & 0 & 0\\\\\n",
       "\t4 & chr1 &  6001 &  8000 & 0.00000 & 0 & 0 & 0\\\\\n",
       "\t5 & chr1 &  8001 & 10000 & 0.11165 & 0 & 0 & 0\\\\\n",
       "\t6 & chr1 & 10001 & 12000 & 0.11165 & 0 & 0 & 0\\\\\n",
       "\\end{tabular}\n"
      ],
      "text/markdown": [
       "\n",
       "A data.frame: 6 × 7\n",
       "\n",
       "| <!--/--> | Chrom &lt;fct&gt; | Start &lt;dbl&gt; | End &lt;int&gt; | H3K4me1 &lt;dbl&gt; | H3K4me2 &lt;dbl&gt; | H3K4me3 &lt;dbl&gt; | H3K27ac &lt;dbl&gt; |\n",
       "|---|---|---|---|---|---|---|---|\n",
       "| 1 | chr1 |     1 |  2000 | 0.00000 | 0 | 0 | 0 |\n",
       "| 2 | chr1 |  2001 |  4000 | 0.00000 | 0 | 0 | 0 |\n",
       "| 3 | chr1 |  4001 |  6000 | 0.00000 | 0 | 0 | 0 |\n",
       "| 4 | chr1 |  6001 |  8000 | 0.00000 | 0 | 0 | 0 |\n",
       "| 5 | chr1 |  8001 | 10000 | 0.11165 | 0 | 0 | 0 |\n",
       "| 6 | chr1 | 10001 | 12000 | 0.11165 | 0 | 0 | 0 |\n",
       "\n"
      ],
      "text/plain": [
       "  Chrom Start End   H3K4me1 H3K4me2 H3K4me3 H3K27ac\n",
       "1 chr1      1  2000 0.00000 0       0       0      \n",
       "2 chr1   2001  4000 0.00000 0       0       0      \n",
       "3 chr1   4001  6000 0.00000 0       0       0      \n",
       "4 chr1   6001  8000 0.00000 0       0       0      \n",
       "5 chr1   8001 10000 0.11165 0       0       0      \n",
       "6 chr1  10001 12000 0.11165 0       0       0      "
      ]
     },
     "metadata": {},
     "output_type": "display_data"
    }
   ],
   "source": [
    "## We plan to normalize count data for BPM = Bins Per Million mapped reads, same as TPM in RNA-seq.\n",
    "## A simple function performs this task for us.\n",
    "\n",
    "source(\"bpmNormalize.R\")\n",
    "countMatrix$H3K4me1 <- bpmNormalize(countMatrix$H3K4me1)\n",
    "countMatrix$H3K4me2 <- bpmNormalize(countMatrix$H3K4me2)\n",
    "countMatrix$H3K4me3 <- bpmNormalize(countMatrix$H3K4me3)\n",
    "countMatrix$H3K27ac <- bpmNormalize(countMatrix$H3K27ac)\n",
    "\n",
    "## Let's check out the transformed matrix.\n",
    "head(countMatrix)"
   ]
  },
  {
   "cell_type": "code",
   "execution_count": 54,
   "metadata": {},
   "outputs": [
    {
     "name": "stdout",
     "output_type": "stream",
     "text": [
      "The row count for H3K4me1 reads is 1000000 \n",
      "The row count for H3K4me2 reads is 1000000 \n",
      "The row count for H3K4me3 reads is 1000000 \n",
      "The row count for H3K27ac reads is 1000000"
     ]
    }
   ],
   "source": [
    "## A great test for visualizing normalization is that all the columns shall now be proportionate.\n",
    "\n",
    "cat(\"The row count for H3K4me1 reads is\", sum(countMatrix$H3K4me1),\"\\n\")\n",
    "cat(\"The row count for H3K4me2 reads is\", sum(countMatrix$H3K4me2),\"\\n\")\n",
    "cat(\"The row count for H3K4me3 reads is\", sum(countMatrix$H3K4me3),\"\\n\")\n",
    "cat(\"The row count for H3K27ac reads is\", sum(countMatrix$H3K27ac))"
   ]
  },
  {
   "cell_type": "markdown",
   "metadata": {},
   "source": [
    "Now, we're good to proceed. We shall tap *computeMatrix* function from **deepTools** for preparing input for *plotProfiles* function from the same suite."
   ]
  }
 ],
 "metadata": {
  "kernelspec": {
   "display_name": "R",
   "language": "R",
   "name": "ir"
  },
  "language_info": {
   "codemirror_mode": "r",
   "file_extension": ".r",
   "mimetype": "text/x-r-source",
   "name": "R",
   "pygments_lexer": "r",
   "version": "3.3.3"
  }
 },
 "nbformat": 4,
 "nbformat_minor": 2
}
