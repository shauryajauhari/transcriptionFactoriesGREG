{
 "cells": [
  {
   "cell_type": "markdown",
   "metadata": {},
   "source": [
    "# Prediction of Transcription Factories: A Machine Learning Blueprint\n",
    "### Shaurya Jauhari, Mora Lab, GZHMU."
   ]
  },
  {
   "cell_type": "markdown",
   "metadata": {},
   "source": [
    "Transcription Factories are those purported sites that have been identified as the breeding grounds for transcripts. Their relevance heightens when the spatial organization of the genome is considered. Since transcription factories attract distant segments of the genome together for inter-mingling and possibly carrying out regulation, true picture emerges of the parts that co-localize and co-express. This has been a major lacuna in the dogma of the current suite of enrichment tools for genomic regions."
   ]
  },
  {
   "cell_type": "markdown",
   "metadata": {},
   "source": [
    "## Prerequisites"
   ]
  },
  {
   "cell_type": "markdown",
   "metadata": {},
   "source": [
    "The protocol would require the availability of the following tools. Kindly ensure that they have been successfully installed in your system and embrace a **PATH** variable definition.\n",
    "1. [samtools](http://www.htslib.org/)\n",
    "2. [deeptools](https://deeptools.readthedocs.io/en/develop/)\n",
    "\n",
    "Additionally, the notebook employs several bash scripts that are available [here](https://github.com/shauryajauhari/transcriptionFactoriesGREG/tree/master/terminalScripts). These scripts hold the relevant annotation."
   ]
  },
  {
   "cell_type": "markdown",
   "metadata": {},
   "source": [
    "## Setting up Data"
   ]
  },
  {
   "cell_type": "markdown",
   "metadata": {},
   "source": [
    "We have compiled a tabulation for the metadata associated with cell types in GREG. The relevant features shall be the basis for our machine learning model, but before even reaching that far we're tempted to visualize the reads from these features (transcription factors, histone marks, and RNA-Seqs)."
   ]
  },
  {
   "cell_type": "code",
   "execution_count": 2,
   "metadata": {},
   "outputs": [
    {
     "data": {
      "text/html": [
       "<table>\n",
       "<caption>A tibble: 6 × 11</caption>\n",
       "<thead>\n",
       "\t<tr><th scope=col>Cell Type</th><th scope=col>Feature</th><th scope=col>Samples</th><th scope=col>Source</th><th scope=col>Species</th><th scope=col>Genome Version</th><th scope=col>Laboratory</th><th scope=col>Notes</th><th scope=col>Download Link</th><th scope=col>File Type</th><th scope=col>Selection Criteria</th></tr>\n",
       "\t<tr><th scope=col>&lt;chr&gt;</th><th scope=col>&lt;chr&gt;</th><th scope=col>&lt;chr&gt;</th><th scope=col>&lt;chr&gt;</th><th scope=col>&lt;chr&gt;</th><th scope=col>&lt;chr&gt;</th><th scope=col>&lt;chr&gt;</th><th scope=col>&lt;chr&gt;</th><th scope=col>&lt;list&gt;</th><th scope=col>&lt;chr&gt;</th><th scope=col>&lt;chr&gt;</th></tr>\n",
       "</thead>\n",
       "<tbody>\n",
       "\t<tr><td>A549</td><td>CTCF    </td><td>GSM1003582</td><td>ENCODE</td><td>Homo sapiens</td><td>hg19</td><td>Bradley Bernstein, Broad                           </td><td>GSM1003582 is from Bradley Bernstein, Broad and the sample is treated with 100 nM dexamethasone for 1 hour</td><td>https://www.encodeproject.org/files/ENCFF631JUR/@@download/ENCFF631JUR.bam ,  https://www.encodeproject.org/files/ENCFF685FVQ/@@download/ENCFF685FVQ.bam</td><td>BAM</td><td>More samples from this lab; more chosen samples from this method (treatment with 100 nM dexamethasone for 1 hour).</td></tr>\n",
       "\t<tr><td>A549</td><td>EP300   </td><td>GSM1010827</td><td>ENCODE</td><td>Homo sapiens</td><td>hg19</td><td>Myers Lab, Hudson Alpha Institute of Biotechnology.</td><td>GSM1010827 is treated with 0.02% ethanol for 1 hour                                                       </td><td>https://www.encodeproject.org/files/ENCFF540LLB/@@download/ENCFF540LLB.bam ,  https://www.encodeproject.org/files/ENCFF864VSA/@@download/ENCFF864VSA.bam</td><td>BAM</td><td>Only choice                                                                                                       </td></tr>\n",
       "\t<tr><td>A549</td><td>H3K27me3</td><td>GSM1003577</td><td>ENCODE</td><td>Homo sapiens</td><td>hg19</td><td>Bradley Bernstein, Broad                           </td><td>GSM1003577 is from Bradley Bernstein, Broad and the sample is treated with 100 nM dexamethasone for 1 hour</td><td>https://www.encodeproject.org/files/ENCFF800NPS/@@download/ENCFF800NPS.bam ,  https://www.encodeproject.org/files/ENCFF664RTA/@@download/ENCFF664RTA.bam</td><td>BAM</td><td>More chosen samples from this method (treatment with 100 nM dexamethasone for 1 hour)                             </td></tr>\n",
       "\t<tr><td>A549</td><td>H3K36me3</td><td>GSM1003494</td><td>ENCODE</td><td>Homo sapiens</td><td>hg19</td><td>Bradley Bernstein, Broad                           </td><td>GSM1003494 is from Bradley Bernstein, Broad and the sample is treated with 100 nM dexamethasone for 1 hour</td><td>https://www.encodeproject.org/files/ENCFF386GAK/@@download/ENCFF386GAK.bam ,  https://www.encodeproject.org/files/ENCFF572FCV/@@download/ENCFF572FCV.bam</td><td>BAM</td><td>More chosen samples from this method (treatment with 100 nM dexamethasone for 1 hour)                             </td></tr>\n",
       "\t<tr><td>A549</td><td>H3K4me1 </td><td>GSM1003495</td><td>ENCODE</td><td>Homo sapiens</td><td>hg19</td><td>Bradley Bernstein, Broad                           </td><td>GSM1003495 is from Bradley Bernstein, Broad and the sample is treated with 100 nM dexamethasone for 1 hour</td><td>https://www.encodeproject.org/files/ENCFF892UTA/@@download/ENCFF892UTA.bam ,  https://www.encodeproject.org/files/ENCFF000AIE/@@download/ENCFF000AIE.bam,  https://www.encodeproject.org/files/ENCFF739OOI/@@download/ENCFF739OOI.bam,  https://www.encodeproject.org/files/ENCFF000AIG/@@download/ENCFF000AIG.bam</td><td>BAM</td><td>More chosen samples from this method (treatment with 100 nM dexamethasone for 1 hour)                             </td></tr>\n",
       "\t<tr><td>A549</td><td>H3K4me2 </td><td>GSM1003511</td><td>ENCODE</td><td>Homo sapiens</td><td>hg19</td><td>Bradley Bernstein, Broad                           </td><td>GSM1003511 is from Bradley Bernstein, Broad and the sample is treated with 100 nM dexamethasone for 1 hour</td><td>https://www.encodeproject.org/files/ENCFF874VXV/@@download/ENCFF874VXV.bam ,  https://www.encodeproject.org/files/ENCFF927EWB/@@download/ENCFF927EWB.bam</td><td>BAM</td><td>More chosen samples from this method (treatment with 100 nM dexamethasone for 1 hour)                             </td></tr>\n",
       "</tbody>\n",
       "</table>\n"
      ],
      "text/latex": [
       "A tibble: 6 × 11\n",
       "\\begin{tabular}{lllllllllll}\n",
       " Cell Type & Feature & Samples & Source & Species & Genome Version & Laboratory & Notes & Download Link & File Type & Selection Criteria\\\\\n",
       " <chr> & <chr> & <chr> & <chr> & <chr> & <chr> & <chr> & <chr> & <list> & <chr> & <chr>\\\\\n",
       "\\hline\n",
       "\t A549 & CTCF     & GSM1003582 & ENCODE & Homo sapiens & hg19 & Bradley Bernstein, Broad                            & GSM1003582 is from Bradley Bernstein, Broad and the sample is treated with 100 nM dexamethasone for 1 hour & https://www.encodeproject.org/files/ENCFF631JUR/@@download/ENCFF631JUR.bam ,  https://www.encodeproject.org/files/ENCFF685FVQ/@@download/ENCFF685FVQ.bam & BAM & More samples from this lab; more chosen samples from this method (treatment with 100 nM dexamethasone for 1 hour).\\\\\n",
       "\t A549 & EP300    & GSM1010827 & ENCODE & Homo sapiens & hg19 & Myers Lab, Hudson Alpha Institute of Biotechnology. & GSM1010827 is treated with 0.02\\% ethanol for 1 hour                                                        & https://www.encodeproject.org/files/ENCFF540LLB/@@download/ENCFF540LLB.bam ,  https://www.encodeproject.org/files/ENCFF864VSA/@@download/ENCFF864VSA.bam & BAM & Only choice                                                                                                       \\\\\n",
       "\t A549 & H3K27me3 & GSM1003577 & ENCODE & Homo sapiens & hg19 & Bradley Bernstein, Broad                            & GSM1003577 is from Bradley Bernstein, Broad and the sample is treated with 100 nM dexamethasone for 1 hour & https://www.encodeproject.org/files/ENCFF800NPS/@@download/ENCFF800NPS.bam ,  https://www.encodeproject.org/files/ENCFF664RTA/@@download/ENCFF664RTA.bam & BAM & More chosen samples from this method (treatment with 100 nM dexamethasone for 1 hour)                             \\\\\n",
       "\t A549 & H3K36me3 & GSM1003494 & ENCODE & Homo sapiens & hg19 & Bradley Bernstein, Broad                            & GSM1003494 is from Bradley Bernstein, Broad and the sample is treated with 100 nM dexamethasone for 1 hour & https://www.encodeproject.org/files/ENCFF386GAK/@@download/ENCFF386GAK.bam ,  https://www.encodeproject.org/files/ENCFF572FCV/@@download/ENCFF572FCV.bam & BAM & More chosen samples from this method (treatment with 100 nM dexamethasone for 1 hour)                             \\\\\n",
       "\t A549 & H3K4me1  & GSM1003495 & ENCODE & Homo sapiens & hg19 & Bradley Bernstein, Broad                            & GSM1003495 is from Bradley Bernstein, Broad and the sample is treated with 100 nM dexamethasone for 1 hour & https://www.encodeproject.org/files/ENCFF892UTA/@@download/ENCFF892UTA.bam ,  https://www.encodeproject.org/files/ENCFF000AIE/@@download/ENCFF000AIE.bam,  https://www.encodeproject.org/files/ENCFF739OOI/@@download/ENCFF739OOI.bam,  https://www.encodeproject.org/files/ENCFF000AIG/@@download/ENCFF000AIG.bam & BAM & More chosen samples from this method (treatment with 100 nM dexamethasone for 1 hour)                             \\\\\n",
       "\t A549 & H3K4me2  & GSM1003511 & ENCODE & Homo sapiens & hg19 & Bradley Bernstein, Broad                            & GSM1003511 is from Bradley Bernstein, Broad and the sample is treated with 100 nM dexamethasone for 1 hour & https://www.encodeproject.org/files/ENCFF874VXV/@@download/ENCFF874VXV.bam ,  https://www.encodeproject.org/files/ENCFF927EWB/@@download/ENCFF927EWB.bam & BAM & More chosen samples from this method (treatment with 100 nM dexamethasone for 1 hour)                             \\\\\n",
       "\\end{tabular}\n"
      ],
      "text/markdown": [
       "\n",
       "A tibble: 6 × 11\n",
       "\n",
       "| Cell Type &lt;chr&gt; | Feature &lt;chr&gt; | Samples &lt;chr&gt; | Source &lt;chr&gt; | Species &lt;chr&gt; | Genome Version &lt;chr&gt; | Laboratory &lt;chr&gt; | Notes &lt;chr&gt; | Download Link &lt;list&gt; | File Type &lt;chr&gt; | Selection Criteria &lt;chr&gt; |\n",
       "|---|---|---|---|---|---|---|---|---|---|---|\n",
       "| A549 | CTCF     | GSM1003582 | ENCODE | Homo sapiens | hg19 | Bradley Bernstein, Broad                            | GSM1003582 is from Bradley Bernstein, Broad and the sample is treated with 100 nM dexamethasone for 1 hour | https://www.encodeproject.org/files/ENCFF631JUR/@@download/ENCFF631JUR.bam ,  https://www.encodeproject.org/files/ENCFF685FVQ/@@download/ENCFF685FVQ.bam | BAM | More samples from this lab; more chosen samples from this method (treatment with 100 nM dexamethasone for 1 hour). |\n",
       "| A549 | EP300    | GSM1010827 | ENCODE | Homo sapiens | hg19 | Myers Lab, Hudson Alpha Institute of Biotechnology. | GSM1010827 is treated with 0.02% ethanol for 1 hour                                                        | https://www.encodeproject.org/files/ENCFF540LLB/@@download/ENCFF540LLB.bam ,  https://www.encodeproject.org/files/ENCFF864VSA/@@download/ENCFF864VSA.bam | BAM | Only choice                                                                                                        |\n",
       "| A549 | H3K27me3 | GSM1003577 | ENCODE | Homo sapiens | hg19 | Bradley Bernstein, Broad                            | GSM1003577 is from Bradley Bernstein, Broad and the sample is treated with 100 nM dexamethasone for 1 hour | https://www.encodeproject.org/files/ENCFF800NPS/@@download/ENCFF800NPS.bam ,  https://www.encodeproject.org/files/ENCFF664RTA/@@download/ENCFF664RTA.bam | BAM | More chosen samples from this method (treatment with 100 nM dexamethasone for 1 hour)                              |\n",
       "| A549 | H3K36me3 | GSM1003494 | ENCODE | Homo sapiens | hg19 | Bradley Bernstein, Broad                            | GSM1003494 is from Bradley Bernstein, Broad and the sample is treated with 100 nM dexamethasone for 1 hour | https://www.encodeproject.org/files/ENCFF386GAK/@@download/ENCFF386GAK.bam ,  https://www.encodeproject.org/files/ENCFF572FCV/@@download/ENCFF572FCV.bam | BAM | More chosen samples from this method (treatment with 100 nM dexamethasone for 1 hour)                              |\n",
       "| A549 | H3K4me1  | GSM1003495 | ENCODE | Homo sapiens | hg19 | Bradley Bernstein, Broad                            | GSM1003495 is from Bradley Bernstein, Broad and the sample is treated with 100 nM dexamethasone for 1 hour | https://www.encodeproject.org/files/ENCFF892UTA/@@download/ENCFF892UTA.bam ,  https://www.encodeproject.org/files/ENCFF000AIE/@@download/ENCFF000AIE.bam,  https://www.encodeproject.org/files/ENCFF739OOI/@@download/ENCFF739OOI.bam,  https://www.encodeproject.org/files/ENCFF000AIG/@@download/ENCFF000AIG.bam | BAM | More chosen samples from this method (treatment with 100 nM dexamethasone for 1 hour)                              |\n",
       "| A549 | H3K4me2  | GSM1003511 | ENCODE | Homo sapiens | hg19 | Bradley Bernstein, Broad                            | GSM1003511 is from Bradley Bernstein, Broad and the sample is treated with 100 nM dexamethasone for 1 hour | https://www.encodeproject.org/files/ENCFF874VXV/@@download/ENCFF874VXV.bam ,  https://www.encodeproject.org/files/ENCFF927EWB/@@download/ENCFF927EWB.bam | BAM | More chosen samples from this method (treatment with 100 nM dexamethasone for 1 hour)                              |\n",
       "\n"
      ],
      "text/plain": [
       "  Cell Type Feature  Samples    Source Species      Genome Version\n",
       "1 A549      CTCF     GSM1003582 ENCODE Homo sapiens hg19          \n",
       "2 A549      EP300    GSM1010827 ENCODE Homo sapiens hg19          \n",
       "3 A549      H3K27me3 GSM1003577 ENCODE Homo sapiens hg19          \n",
       "4 A549      H3K36me3 GSM1003494 ENCODE Homo sapiens hg19          \n",
       "5 A549      H3K4me1  GSM1003495 ENCODE Homo sapiens hg19          \n",
       "6 A549      H3K4me2  GSM1003511 ENCODE Homo sapiens hg19          \n",
       "  Laboratory                                         \n",
       "1 Bradley Bernstein, Broad                           \n",
       "2 Myers Lab, Hudson Alpha Institute of Biotechnology.\n",
       "3 Bradley Bernstein, Broad                           \n",
       "4 Bradley Bernstein, Broad                           \n",
       "5 Bradley Bernstein, Broad                           \n",
       "6 Bradley Bernstein, Broad                           \n",
       "  Notes                                                                                                     \n",
       "1 GSM1003582 is from Bradley Bernstein, Broad and the sample is treated with 100 nM dexamethasone for 1 hour\n",
       "2 GSM1010827 is treated with 0.02% ethanol for 1 hour                                                       \n",
       "3 GSM1003577 is from Bradley Bernstein, Broad and the sample is treated with 100 nM dexamethasone for 1 hour\n",
       "4 GSM1003494 is from Bradley Bernstein, Broad and the sample is treated with 100 nM dexamethasone for 1 hour\n",
       "5 GSM1003495 is from Bradley Bernstein, Broad and the sample is treated with 100 nM dexamethasone for 1 hour\n",
       "6 GSM1003511 is from Bradley Bernstein, Broad and the sample is treated with 100 nM dexamethasone for 1 hour\n",
       "  Download Link                                                                                                                                                                                                                                                                                                     \n",
       "1 https://www.encodeproject.org/files/ENCFF631JUR/@@download/ENCFF631JUR.bam ,  https://www.encodeproject.org/files/ENCFF685FVQ/@@download/ENCFF685FVQ.bam                                                                                                                                                          \n",
       "2 https://www.encodeproject.org/files/ENCFF540LLB/@@download/ENCFF540LLB.bam ,  https://www.encodeproject.org/files/ENCFF864VSA/@@download/ENCFF864VSA.bam                                                                                                                                                          \n",
       "3 https://www.encodeproject.org/files/ENCFF800NPS/@@download/ENCFF800NPS.bam ,  https://www.encodeproject.org/files/ENCFF664RTA/@@download/ENCFF664RTA.bam                                                                                                                                                          \n",
       "4 https://www.encodeproject.org/files/ENCFF386GAK/@@download/ENCFF386GAK.bam ,  https://www.encodeproject.org/files/ENCFF572FCV/@@download/ENCFF572FCV.bam                                                                                                                                                          \n",
       "5 https://www.encodeproject.org/files/ENCFF892UTA/@@download/ENCFF892UTA.bam ,  https://www.encodeproject.org/files/ENCFF000AIE/@@download/ENCFF000AIE.bam,  https://www.encodeproject.org/files/ENCFF739OOI/@@download/ENCFF739OOI.bam,  https://www.encodeproject.org/files/ENCFF000AIG/@@download/ENCFF000AIG.bam\n",
       "6 https://www.encodeproject.org/files/ENCFF874VXV/@@download/ENCFF874VXV.bam ,  https://www.encodeproject.org/files/ENCFF927EWB/@@download/ENCFF927EWB.bam                                                                                                                                                          \n",
       "  File Type\n",
       "1 BAM      \n",
       "2 BAM      \n",
       "3 BAM      \n",
       "4 BAM      \n",
       "5 BAM      \n",
       "6 BAM      \n",
       "  Selection Criteria                                                                                                \n",
       "1 More samples from this lab; more chosen samples from this method (treatment with 100 nM dexamethasone for 1 hour).\n",
       "2 Only choice                                                                                                       \n",
       "3 More chosen samples from this method (treatment with 100 nM dexamethasone for 1 hour)                             \n",
       "4 More chosen samples from this method (treatment with 100 nM dexamethasone for 1 hour)                             \n",
       "5 More chosen samples from this method (treatment with 100 nM dexamethasone for 1 hour)                             \n",
       "6 More chosen samples from this method (treatment with 100 nM dexamethasone for 1 hour)                             "
      ]
     },
     "metadata": {},
     "output_type": "display_data"
    }
   ],
   "source": [
    "## Install package to read excel file and load library.\n",
    "install.packages(\"readxl\")\n",
    "library(readxl)\n",
    "  \n",
    "## Import the master table.\n",
    "masterData <- read_excel(\"siftedData.xlsx\")\n",
    "\n",
    "## Identifying individual download links for the features\n",
    "masterData$`Download Link` <- strsplit(masterData$`Download Link`, \",\")\n",
    "\n",
    "## For consistency and cleanliness, let's remove whitespaces from the column.\n",
    "  for (i in 1: nrow(masterData))\n",
    "  {\n",
    "    for (j in 1: length(masterData$`Download Link`[[i]]))\n",
    "    {\n",
    "     lapply(masterData$`Download Link`[[i]][j], trimws)\n",
    "    }\n",
    "  }\n",
    "\n",
    "head(masterData)"
   ]
  },
  {
   "cell_type": "code",
   "execution_count": 3,
   "metadata": {},
   "outputs": [
    {
     "data": {
      "text/html": [
       "<style>\n",
       ".list-inline {list-style: none; margin:0; padding: 0}\n",
       ".list-inline>li {display: inline-block}\n",
       ".list-inline>li:not(:last-child)::after {content: \"\\00b7\"; padding: 0 .5ex}\n",
       "</style>\n",
       "<ol class=list-inline><li>'A549'</li><li>'H1 hESC'</li><li>'HeLa S3'</li><li>'IMR90'</li><li>'K562'</li><li>'MCF7'</li></ol>\n"
      ],
      "text/latex": [
       "\\begin{enumerate*}\n",
       "\\item 'A549'\n",
       "\\item 'H1 hESC'\n",
       "\\item 'HeLa S3'\n",
       "\\item 'IMR90'\n",
       "\\item 'K562'\n",
       "\\item 'MCF7'\n",
       "\\end{enumerate*}\n"
      ],
      "text/markdown": [
       "1. 'A549'\n",
       "2. 'H1 hESC'\n",
       "3. 'HeLa S3'\n",
       "4. 'IMR90'\n",
       "5. 'K562'\n",
       "6. 'MCF7'\n",
       "\n",
       "\n"
      ],
      "text/plain": [
       "[1] \"A549\"    \"H1 hESC\" \"HeLa S3\" \"IMR90\"   \"K562\"    \"MCF7\"   "
      ]
     },
     "metadata": {},
     "output_type": "display_data"
    }
   ],
   "source": [
    "## Identifying cell-types and features\n",
    "cells <- unique(masterData$`Cell Type`)\n",
    "cells"
   ]
  },
  {
   "cell_type": "code",
   "execution_count": 4,
   "metadata": {},
   "outputs": [
    {
     "data": {
      "text/html": [
       "<style>\n",
       ".list-inline {list-style: none; margin:0; padding: 0}\n",
       ".list-inline>li {display: inline-block}\n",
       ".list-inline>li:not(:last-child)::after {content: \"\\00b7\"; padding: 0 .5ex}\n",
       "</style>\n",
       "<ol class=list-inline><li>'CTCF'</li><li>'EP300'</li><li>'H3K27me3'</li><li>'H3K36me3'</li><li>'H3K4me1'</li><li>'H3K4me2'</li><li>'H3K4me3'</li><li>'H3K9ac'</li><li>'H3K9me3'</li><li>'RAD21'</li><li>'RNAPol2'</li><li>'RNAPol3'</li><li>'RNA-Seq'</li><li>'YY1'</li></ol>\n"
      ],
      "text/latex": [
       "\\begin{enumerate*}\n",
       "\\item 'CTCF'\n",
       "\\item 'EP300'\n",
       "\\item 'H3K27me3'\n",
       "\\item 'H3K36me3'\n",
       "\\item 'H3K4me1'\n",
       "\\item 'H3K4me2'\n",
       "\\item 'H3K4me3'\n",
       "\\item 'H3K9ac'\n",
       "\\item 'H3K9me3'\n",
       "\\item 'RAD21'\n",
       "\\item 'RNAPol2'\n",
       "\\item 'RNAPol3'\n",
       "\\item 'RNA-Seq'\n",
       "\\item 'YY1'\n",
       "\\end{enumerate*}\n"
      ],
      "text/markdown": [
       "1. 'CTCF'\n",
       "2. 'EP300'\n",
       "3. 'H3K27me3'\n",
       "4. 'H3K36me3'\n",
       "5. 'H3K4me1'\n",
       "6. 'H3K4me2'\n",
       "7. 'H3K4me3'\n",
       "8. 'H3K9ac'\n",
       "9. 'H3K9me3'\n",
       "10. 'RAD21'\n",
       "11. 'RNAPol2'\n",
       "12. 'RNAPol3'\n",
       "13. 'RNA-Seq'\n",
       "14. 'YY1'\n",
       "\n",
       "\n"
      ],
      "text/plain": [
       " [1] \"CTCF\"     \"EP300\"    \"H3K27me3\" \"H3K36me3\" \"H3K4me1\"  \"H3K4me2\" \n",
       " [7] \"H3K4me3\"  \"H3K9ac\"   \"H3K9me3\"  \"RAD21\"    \"RNAPol2\"  \"RNAPol3\" \n",
       "[13] \"RNA-Seq\"  \"YY1\"     "
      ]
     },
     "metadata": {},
     "output_type": "display_data"
    }
   ],
   "source": [
    "features <- unique(masterData$Feature)\n",
    "features"
   ]
  },
  {
   "cell_type": "markdown",
   "metadata": {},
   "source": [
    "### Initializing Data Store"
   ]
  },
  {
   "cell_type": "code",
   "execution_count": 6,
   "metadata": {},
   "outputs": [],
   "source": [
    "## We shall create a directory named 'GREG' that will house all the data related to all the features associated with\n",
    "## each cell type, as defined above.\n",
    "\n",
    "# current project directory as working directory.\n",
    "setwd(\".\")\n",
    "\n",
    "# Parent directory\n",
    "dir.create(\"GREG\")\n",
    "\n",
    "# Create subfolders by the name of cell-types. \n",
    "for (i in 1:length(cells))\n",
    "  {\n",
    "    dir.create(paste0(\"./GREG/\",cells[i]))\n",
    "  }\n",
    "\n",
    "\n",
    "# Create sub-subfolders by the name of features.\n",
    "for (i in 1:length(cells))\n",
    "  {\n",
    "    for(j in 1:length(features))\n",
    "      {\n",
    "        dir.create(paste0(paste0(\"./GREG/\",cells[i]),paste0(\"/\",features[j])))\n",
    "      }\n",
    "  }"
   ]
  },
  {
   "cell_type": "markdown",
   "metadata": {},
   "source": [
    "Now that we have the directory structure in place, we shall commence with the downloading of the relevant alignment files, to their appropriate location. The files can be referenced from the column *Download Link* in the table *masterData*. Note that there are **NA** instances in the table, that'll be dealt in accordance. "
   ]
  },
  {
   "cell_type": "markdown",
   "metadata": {},
   "source": [
    "## Setting up Target Genomic Regions"
   ]
  },
  {
   "cell_type": "markdown",
   "metadata": {},
   "source": [
    "In cognizance to [GREG](http://www.dx.doi.org/10.1093/database/baz162), we define genomic regions with a 2 kilobase bin size. These shall be the pivots corresponding to which the features with read counts shall be hinged. Additionally, we want to make our BED file [1-based](http://genome.ucsc.edu/FAQ/FAQformat.html#format1), to align with the format in GREG. "
   ]
  },
  {
   "cell_type": "code",
   "execution_count": 1,
   "metadata": {},
   "outputs": [
    {
     "name": "stderr",
     "output_type": "stream",
     "text": [
      "Loading required package: BSgenome\n",
      "\n",
      "Loading required package: BiocGenerics\n",
      "\n",
      "Loading required package: parallel\n",
      "\n",
      "\n",
      "Attaching package: ‘BiocGenerics’\n",
      "\n",
      "\n",
      "The following objects are masked from ‘package:parallel’:\n",
      "\n",
      "    clusterApply, clusterApplyLB, clusterCall, clusterEvalQ,\n",
      "    clusterExport, clusterMap, parApply, parCapply, parLapply,\n",
      "    parLapplyLB, parRapply, parSapply, parSapplyLB\n",
      "\n",
      "\n",
      "The following objects are masked from ‘package:stats’:\n",
      "\n",
      "    IQR, mad, xtabs\n",
      "\n",
      "\n",
      "The following objects are masked from ‘package:base’:\n",
      "\n",
      "    Filter, Find, Map, Position, Reduce, anyDuplicated, append,\n",
      "    as.data.frame, cbind, colnames, do.call, duplicated, eval, evalq,\n",
      "    get, grep, grepl, intersect, is.unsorted, lapply, lengths, mapply,\n",
      "    match, mget, order, paste, pmax, pmax.int, pmin, pmin.int, rank,\n",
      "    rbind, rownames, sapply, setdiff, sort, table, tapply, union,\n",
      "    unique, unsplit, which, which.max, which.min\n",
      "\n",
      "\n",
      "Loading required package: S4Vectors\n",
      "\n",
      "Loading required package: stats4\n",
      "\n",
      "\n",
      "Attaching package: ‘S4Vectors’\n",
      "\n",
      "\n",
      "The following objects are masked from ‘package:base’:\n",
      "\n",
      "    colMeans, colSums, expand.grid, rowMeans, rowSums\n",
      "\n",
      "\n",
      "Loading required package: IRanges\n",
      "\n",
      "Loading required package: GenomeInfoDb\n",
      "\n",
      "Loading required package: GenomicRanges\n",
      "\n",
      "Loading required package: Biostrings\n",
      "\n",
      "Loading required package: XVector\n",
      "\n",
      "Loading required package: rtracklayer\n",
      "\n"
     ]
    }
   ],
   "source": [
    "## Source the UCSC library for Homo sapiens genome, version hg19.\n",
    "BiocManager::install(\"BSgenome.Hsapiens.UCSC.hg19\")\n",
    "library(BSgenome.Hsapiens.UCSC.hg19)"
   ]
  },
  {
   "cell_type": "markdown",
   "metadata": {},
   "source": [
    "From the chromosome size definitions available in the loaded package, we create an index as follows. This shall be the premises on which our genomic bins shall be carved out."
   ]
  },
  {
   "cell_type": "code",
   "execution_count": 2,
   "metadata": {},
   "outputs": [
    {
     "data": {
      "text/plain": [
       "Seqinfo object with 93 sequences (1 circular) from hg19 genome:\n",
       "  seqnames       seqlengths isCircular genome\n",
       "  chr1            249250621      FALSE   hg19\n",
       "  chr2            243199373      FALSE   hg19\n",
       "  chr3            198022430      FALSE   hg19\n",
       "  chr4            191154276      FALSE   hg19\n",
       "  chr5            180915260      FALSE   hg19\n",
       "  ...                   ...        ...    ...\n",
       "  chrUn_gl000245      36651      FALSE   hg19\n",
       "  chrUn_gl000246      38154      FALSE   hg19\n",
       "  chrUn_gl000247      36422      FALSE   hg19\n",
       "  chrUn_gl000248      39786      FALSE   hg19\n",
       "  chrUn_gl000249      38502      FALSE   hg19"
      ]
     },
     "metadata": {},
     "output_type": "display_data"
    }
   ],
   "source": [
    "si <- seqinfo(BSgenome.Hsapiens.UCSC.hg19)\n",
    "si"
   ]
  },
  {
   "cell_type": "markdown",
   "metadata": {},
   "source": [
    "The function **tileGenome** allows to structure a definitive GenomicRanges object."
   ]
  },
  {
   "cell_type": "code",
   "execution_count": 3,
   "metadata": {},
   "outputs": [
    {
     "data": {
      "text/plain": [
       "GRanges object with 1568625 ranges and 0 metadata columns:\n",
       "                  seqnames         ranges strand\n",
       "                     <Rle>      <IRanges>  <Rle>\n",
       "        [1]           chr1  [   1,  2000]      *\n",
       "        [2]           chr1  [2001,  4000]      *\n",
       "        [3]           chr1  [4001,  6000]      *\n",
       "        [4]           chr1  [6001,  8000]      *\n",
       "        [5]           chr1  [8001, 10000]      *\n",
       "        ...            ...            ...    ...\n",
       "  [1568621] chrUn_gl000249 [30001, 32000]      *\n",
       "  [1568622] chrUn_gl000249 [32001, 34000]      *\n",
       "  [1568623] chrUn_gl000249 [34001, 36000]      *\n",
       "  [1568624] chrUn_gl000249 [36001, 38000]      *\n",
       "  [1568625] chrUn_gl000249 [38001, 38502]      *\n",
       "  -------\n",
       "  seqinfo: 93 sequences (1 circular) from hg19 genome"
      ]
     },
     "metadata": {},
     "output_type": "display_data"
    }
   ],
   "source": [
    "Bins2k <-  tileGenome(si, tilewidth = 2000, cut.last.tile.in.chrom = TRUE)\n",
    "Bins2k"
   ]
  },
  {
   "cell_type": "code",
   "execution_count": 6,
   "metadata": {},
   "outputs": [
    {
     "data": {
      "text/html": [
       "<table>\n",
       "<caption>A data.frame: 6 × 3</caption>\n",
       "<thead>\n",
       "\t<tr><th></th><th scope=col>chrom</th><th scope=col>start</th><th scope=col>end</th></tr>\n",
       "\t<tr><th></th><th scope=col>&lt;fct&gt;</th><th scope=col>&lt;int&gt;</th><th scope=col>&lt;int&gt;</th></tr>\n",
       "</thead>\n",
       "<tbody>\n",
       "\t<tr><th scope=row>1</th><td>chr1</td><td>    1</td><td> 2000</td></tr>\n",
       "\t<tr><th scope=row>2</th><td>chr1</td><td> 2001</td><td> 4000</td></tr>\n",
       "\t<tr><th scope=row>3</th><td>chr1</td><td> 4001</td><td> 6000</td></tr>\n",
       "\t<tr><th scope=row>4</th><td>chr1</td><td> 6001</td><td> 8000</td></tr>\n",
       "\t<tr><th scope=row>5</th><td>chr1</td><td> 8001</td><td>10000</td></tr>\n",
       "\t<tr><th scope=row>6</th><td>chr1</td><td>10001</td><td>12000</td></tr>\n",
       "</tbody>\n",
       "</table>\n"
      ],
      "text/latex": [
       "A data.frame: 6 × 3\n",
       "\\begin{tabular}{r|lll}\n",
       "  & chrom & start & end\\\\\n",
       "  & <fct> & <int> & <int>\\\\\n",
       "\\hline\n",
       "\t1 & chr1 &     1 &  2000\\\\\n",
       "\t2 & chr1 &  2001 &  4000\\\\\n",
       "\t3 & chr1 &  4001 &  6000\\\\\n",
       "\t4 & chr1 &  6001 &  8000\\\\\n",
       "\t5 & chr1 &  8001 & 10000\\\\\n",
       "\t6 & chr1 & 10001 & 12000\\\\\n",
       "\\end{tabular}\n"
      ],
      "text/markdown": [
       "\n",
       "A data.frame: 6 × 3\n",
       "\n",
       "| <!--/--> | chrom &lt;fct&gt; | start &lt;int&gt; | end &lt;int&gt; |\n",
       "|---|---|---|---|\n",
       "| 1 | chr1 |     1 |  2000 |\n",
       "| 2 | chr1 |  2001 |  4000 |\n",
       "| 3 | chr1 |  4001 |  6000 |\n",
       "| 4 | chr1 |  6001 |  8000 |\n",
       "| 5 | chr1 |  8001 | 10000 |\n",
       "| 6 | chr1 | 10001 | 12000 |\n",
       "\n"
      ],
      "text/plain": [
       "  chrom start end  \n",
       "1 chr1      1  2000\n",
       "2 chr1   2001  4000\n",
       "3 chr1   4001  6000\n",
       "4 chr1   6001  8000\n",
       "5 chr1   8001 10000\n",
       "6 chr1  10001 12000"
      ]
     },
     "metadata": {},
     "output_type": "display_data"
    }
   ],
   "source": [
    "targetBED <- as.data.frame(Bins2k)\n",
    "targetBED <- targetBED[, 1:3]\n",
    "colnames(targetBED) <- c(\"chrom\", \"start\", \"end\")\n",
    "head(targetBED)\n",
    "write.table(targetBED, file = \"hg19_2k_bins.bed\", sep = \"\\t\", quote = FALSE)"
   ]
  },
  {
   "cell_type": "markdown",
   "metadata": {},
   "source": [
    "These are the regions where the read counts need to be mapped, and will be in use with the *computeMatrix* execution down the line."
   ]
  },
  {
   "cell_type": "markdown",
   "metadata": {},
   "source": [
    "## Feature Files "
   ]
  },
  {
   "cell_type": "markdown",
   "metadata": {},
   "source": [
    "For exemplifying, let's pick up ChIP-Seq data for epigenetic marks - H3K4me1, H3K4me2, H3K4me3, and H3K27ac for the H1 hESC cell line.(WIP; More instances to follow)"
   ]
  },
  {
   "cell_type": "markdown",
   "metadata": {},
   "source": [
    "![](siftingBAM.jpg)"
   ]
  },
  {
   "cell_type": "markdown",
   "metadata": {},
   "source": [
    "<p>The BAM files are to be indexed first. The script *samtoolsRun.sh* helps just do that. The path to the BAM files is to be specified as an argument to this script. There could be a single or multiple BAM files available. </p>\n",
    "<p>If there are multiple BAM files in a common folder, include the argument as \"*.bam\". Alternatively, if you have BAM files in different folders, they can be fed to the script as under, seperated with a single space. Note that the index files are created in the same location as the BAM file. [They] just need to exist; we hardly require to process them.</p>"
   ]
  },
  {
   "cell_type": "code",
   "execution_count": 6,
   "metadata": {},
   "outputs": [],
   "source": [
    "system(\"bash ./terminalScripts/samtoolsRun.sh /Users/soumyajauhari/Desktop/Machine_Learning/Machine_Learning_Deep_Learning/data/H1_Cell_Line/H3K27ac/ENCFF663SAM.bam \\\n",
    "/Users/soumyajauhari/Desktop/Machine_Learning/Machine_Learning_Deep_Learning/data/H1_Cell_Line/H3K4me1/ENCFF441KOL.bam \\\n",
    "/Users/soumyajauhari/Desktop/Machine_Learning/Machine_Learning_Deep_Learning/data/H1_Cell_Line/H3K4me2/ENCFF799BDH.bam \\\n",
    "/Users/soumyajauhari/Desktop/Machine_Learning/Machine_Learning_Deep_Learning/data/H1_Cell_Line/H3K4me3/ENCFF340UJK.bam\")"
   ]
  },
  {
   "cell_type": "markdown",
   "metadata": {},
   "source": [
    "Now that we have the index files along, we proceed towards getting read counts for our defined bin-size.  We achieve this via deeptools suite, a function called *multiBAMSummary*. The catch here is there could be samples where only single replicate exists. Since *multiBAMSummary* works on two or more alignment files, and as it is we are averaging read counts from multiple replicates eventually, we plan to create a copy of the alignment file if it exists in singleton. "
   ]
  },
  {
   "cell_type": "code",
   "execution_count": null,
   "metadata": {},
   "outputs": [],
   "source": [
    "## The following script examines the feature files (BAM files in subfolders under each cell-type). \n",
    "## If they exist in replicates (two or more), then we can proceed with multiBAMSummary as is, else it'll create a copy\n",
    "## of the single BAM file.\n",
    "\n",
    "## system(\"bash ./terminalScripts/countBAMFiles.sh <path>)"
   ]
  },
  {
   "cell_type": "code",
   "execution_count": 20,
   "metadata": {},
   "outputs": [],
   "source": [
    "## The bash script can be viewed at the terminal.\n",
    "\n",
    "system(\"bash deepToolsmultiBAMSummary.sh\")"
   ]
  },
  {
   "cell_type": "code",
   "execution_count": 1,
   "metadata": {},
   "outputs": [],
   "source": [
    "## Loading the output from multiBAMSummary into R.\n",
    "\n",
    "countMatrix <- read.table(\"readCountsFromBED.tab\", header = FALSE, sep=\"\\t\", quote=\"\")"
   ]
  },
  {
   "cell_type": "code",
   "execution_count": 2,
   "metadata": {},
   "outputs": [
    {
     "data": {
      "text/html": [
       "<table>\n",
       "<caption>A data.frame: 6 × 7</caption>\n",
       "<thead>\n",
       "\t<tr><th></th><th scope=col>chrom</th><th scope=col>start</th><th scope=col>end</th><th scope=col>H3K4me1</th><th scope=col>H3K4me2</th><th scope=col>H3K4me3</th><th scope=col>H3K27ac</th></tr>\n",
       "\t<tr><th></th><th scope=col>&lt;fct&gt;</th><th scope=col>&lt;int&gt;</th><th scope=col>&lt;int&gt;</th><th scope=col>&lt;dbl&gt;</th><th scope=col>&lt;dbl&gt;</th><th scope=col>&lt;dbl&gt;</th><th scope=col>&lt;dbl&gt;</th></tr>\n",
       "</thead>\n",
       "<tbody>\n",
       "\t<tr><th scope=row>1</th><td>chr1</td><td>    0</td><td> 2000</td><td>0</td><td>0</td><td>0</td><td>0</td></tr>\n",
       "\t<tr><th scope=row>2</th><td>chr1</td><td> 2000</td><td> 4000</td><td>0</td><td>0</td><td>0</td><td>0</td></tr>\n",
       "\t<tr><th scope=row>3</th><td>chr1</td><td> 4000</td><td> 6000</td><td>0</td><td>0</td><td>0</td><td>0</td></tr>\n",
       "\t<tr><th scope=row>4</th><td>chr1</td><td> 6000</td><td> 8000</td><td>0</td><td>0</td><td>0</td><td>0</td></tr>\n",
       "\t<tr><th scope=row>5</th><td>chr1</td><td> 8000</td><td>10000</td><td>1</td><td>0</td><td>0</td><td>0</td></tr>\n",
       "\t<tr><th scope=row>6</th><td>chr1</td><td>10000</td><td>12000</td><td>1</td><td>0</td><td>0</td><td>0</td></tr>\n",
       "</tbody>\n",
       "</table>\n"
      ],
      "text/latex": [
       "A data.frame: 6 × 7\n",
       "\\begin{tabular}{r|lllllll}\n",
       "  & chrom & start & end & H3K4me1 & H3K4me2 & H3K4me3 & H3K27ac\\\\\n",
       "  & <fct> & <int> & <int> & <dbl> & <dbl> & <dbl> & <dbl>\\\\\n",
       "\\hline\n",
       "\t1 & chr1 &     0 &  2000 & 0 & 0 & 0 & 0\\\\\n",
       "\t2 & chr1 &  2000 &  4000 & 0 & 0 & 0 & 0\\\\\n",
       "\t3 & chr1 &  4000 &  6000 & 0 & 0 & 0 & 0\\\\\n",
       "\t4 & chr1 &  6000 &  8000 & 0 & 0 & 0 & 0\\\\\n",
       "\t5 & chr1 &  8000 & 10000 & 1 & 0 & 0 & 0\\\\\n",
       "\t6 & chr1 & 10000 & 12000 & 1 & 0 & 0 & 0\\\\\n",
       "\\end{tabular}\n"
      ],
      "text/markdown": [
       "\n",
       "A data.frame: 6 × 7\n",
       "\n",
       "| <!--/--> | chrom &lt;fct&gt; | start &lt;int&gt; | end &lt;int&gt; | H3K4me1 &lt;dbl&gt; | H3K4me2 &lt;dbl&gt; | H3K4me3 &lt;dbl&gt; | H3K27ac &lt;dbl&gt; |\n",
       "|---|---|---|---|---|---|---|---|\n",
       "| 1 | chr1 |     0 |  2000 | 0 | 0 | 0 | 0 |\n",
       "| 2 | chr1 |  2000 |  4000 | 0 | 0 | 0 | 0 |\n",
       "| 3 | chr1 |  4000 |  6000 | 0 | 0 | 0 | 0 |\n",
       "| 4 | chr1 |  6000 |  8000 | 0 | 0 | 0 | 0 |\n",
       "| 5 | chr1 |  8000 | 10000 | 1 | 0 | 0 | 0 |\n",
       "| 6 | chr1 | 10000 | 12000 | 1 | 0 | 0 | 0 |\n",
       "\n"
      ],
      "text/plain": [
       "  chrom start end   H3K4me1 H3K4me2 H3K4me3 H3K27ac\n",
       "1 chr1      0  2000 0       0       0       0      \n",
       "2 chr1   2000  4000 0       0       0       0      \n",
       "3 chr1   4000  6000 0       0       0       0      \n",
       "4 chr1   6000  8000 0       0       0       0      \n",
       "5 chr1   8000 10000 1       0       0       0      \n",
       "6 chr1  10000 12000 1       0       0       0      "
      ]
     },
     "metadata": {},
     "output_type": "display_data"
    }
   ],
   "source": [
    "## Renaming columns of read counts on the order of execution\n",
    "\n",
    "colnames (countMatrix) <- c(\"chrom\", \"start\", \"end\", \"H3K4me1\", \"H3K4me2\", \"H3K4me3\", \"H3K27ac\")\n",
    "head(countMatrix)"
   ]
  },
  {
   "cell_type": "code",
   "execution_count": 3,
   "metadata": {},
   "outputs": [
    {
     "data": {
      "text/html": [
       "<table>\n",
       "<caption>A data.frame: 6 × 7</caption>\n",
       "<thead>\n",
       "\t<tr><th></th><th scope=col>chrom</th><th scope=col>start</th><th scope=col>end</th><th scope=col>H3K4me1</th><th scope=col>H3K4me2</th><th scope=col>H3K4me3</th><th scope=col>H3K27ac</th></tr>\n",
       "\t<tr><th></th><th scope=col>&lt;fct&gt;</th><th scope=col>&lt;dbl&gt;</th><th scope=col>&lt;int&gt;</th><th scope=col>&lt;dbl&gt;</th><th scope=col>&lt;dbl&gt;</th><th scope=col>&lt;dbl&gt;</th><th scope=col>&lt;dbl&gt;</th></tr>\n",
       "</thead>\n",
       "<tbody>\n",
       "\t<tr><th scope=row>1</th><td>chr1</td><td>    1</td><td> 2000</td><td>0</td><td>0</td><td>0</td><td>0</td></tr>\n",
       "\t<tr><th scope=row>2</th><td>chr1</td><td> 2001</td><td> 4000</td><td>0</td><td>0</td><td>0</td><td>0</td></tr>\n",
       "\t<tr><th scope=row>3</th><td>chr1</td><td> 4001</td><td> 6000</td><td>0</td><td>0</td><td>0</td><td>0</td></tr>\n",
       "\t<tr><th scope=row>4</th><td>chr1</td><td> 6001</td><td> 8000</td><td>0</td><td>0</td><td>0</td><td>0</td></tr>\n",
       "\t<tr><th scope=row>5</th><td>chr1</td><td> 8001</td><td>10000</td><td>1</td><td>0</td><td>0</td><td>0</td></tr>\n",
       "\t<tr><th scope=row>6</th><td>chr1</td><td>10001</td><td>12000</td><td>1</td><td>0</td><td>0</td><td>0</td></tr>\n",
       "</tbody>\n",
       "</table>\n"
      ],
      "text/latex": [
       "A data.frame: 6 × 7\n",
       "\\begin{tabular}{r|lllllll}\n",
       "  & chrom & start & end & H3K4me1 & H3K4me2 & H3K4me3 & H3K27ac\\\\\n",
       "  & <fct> & <dbl> & <int> & <dbl> & <dbl> & <dbl> & <dbl>\\\\\n",
       "\\hline\n",
       "\t1 & chr1 &     1 &  2000 & 0 & 0 & 0 & 0\\\\\n",
       "\t2 & chr1 &  2001 &  4000 & 0 & 0 & 0 & 0\\\\\n",
       "\t3 & chr1 &  4001 &  6000 & 0 & 0 & 0 & 0\\\\\n",
       "\t4 & chr1 &  6001 &  8000 & 0 & 0 & 0 & 0\\\\\n",
       "\t5 & chr1 &  8001 & 10000 & 1 & 0 & 0 & 0\\\\\n",
       "\t6 & chr1 & 10001 & 12000 & 1 & 0 & 0 & 0\\\\\n",
       "\\end{tabular}\n"
      ],
      "text/markdown": [
       "\n",
       "A data.frame: 6 × 7\n",
       "\n",
       "| <!--/--> | chrom &lt;fct&gt; | start &lt;dbl&gt; | end &lt;int&gt; | H3K4me1 &lt;dbl&gt; | H3K4me2 &lt;dbl&gt; | H3K4me3 &lt;dbl&gt; | H3K27ac &lt;dbl&gt; |\n",
       "|---|---|---|---|---|---|---|---|\n",
       "| 1 | chr1 |     1 |  2000 | 0 | 0 | 0 | 0 |\n",
       "| 2 | chr1 |  2001 |  4000 | 0 | 0 | 0 | 0 |\n",
       "| 3 | chr1 |  4001 |  6000 | 0 | 0 | 0 | 0 |\n",
       "| 4 | chr1 |  6001 |  8000 | 0 | 0 | 0 | 0 |\n",
       "| 5 | chr1 |  8001 | 10000 | 1 | 0 | 0 | 0 |\n",
       "| 6 | chr1 | 10001 | 12000 | 1 | 0 | 0 | 0 |\n",
       "\n"
      ],
      "text/plain": [
       "  chrom start end   H3K4me1 H3K4me2 H3K4me3 H3K27ac\n",
       "1 chr1      1  2000 0       0       0       0      \n",
       "2 chr1   2001  4000 0       0       0       0      \n",
       "3 chr1   4001  6000 0       0       0       0      \n",
       "4 chr1   6001  8000 0       0       0       0      \n",
       "5 chr1   8001 10000 1       0       0       0      \n",
       "6 chr1  10001 12000 1       0       0       0      "
      ]
     },
     "metadata": {},
     "output_type": "display_data"
    }
   ],
   "source": [
    "## To make it consistent with GREG and 1-based UCSC format.\n",
    "\n",
    "countMatrix$start <- countMatrix$start + 1 \n",
    "head(countMatrix)"
   ]
  },
  {
   "cell_type": "code",
   "execution_count": 4,
   "metadata": {},
   "outputs": [
    {
     "name": "stdout",
     "output_type": "stream",
     "text": [
      "The row count for H3K4me1 reads is 8956558 \n",
      "The row count for H3K4me2 reads is 11751166 \n",
      "The row count for H3K4me3 reads is 12576587 \n",
      "The row count for H3K27ac reads is 13818969"
     ]
    }
   ],
   "source": [
    "## The total number of reads for the corresponding epigenetic marks are worthy to note and reason the need for normalization.\n",
    "\n",
    "cat(\"The row count for H3K4me1 reads is\", sum(countMatrix$H3K4me1),\"\\n\")\n",
    "cat(\"The row count for H3K4me2 reads is\", sum(countMatrix$H3K4me2),\"\\n\")\n",
    "cat(\"The row count for H3K4me3 reads is\", sum(countMatrix$H3K4me3),\"\\n\")\n",
    "cat(\"The row count for H3K27ac reads is\", sum(countMatrix$H3K27ac))"
   ]
  },
  {
   "cell_type": "code",
   "execution_count": 5,
   "metadata": {},
   "outputs": [
    {
     "data": {
      "text/html": [
       "<table>\n",
       "<caption>A data.frame: 6 × 7</caption>\n",
       "<thead>\n",
       "\t<tr><th></th><th scope=col>chrom</th><th scope=col>start</th><th scope=col>end</th><th scope=col>H3K4me1</th><th scope=col>H3K4me2</th><th scope=col>H3K4me3</th><th scope=col>H3K27ac</th></tr>\n",
       "\t<tr><th></th><th scope=col>&lt;fct&gt;</th><th scope=col>&lt;dbl&gt;</th><th scope=col>&lt;int&gt;</th><th scope=col>&lt;dbl&gt;</th><th scope=col>&lt;dbl&gt;</th><th scope=col>&lt;dbl&gt;</th><th scope=col>&lt;dbl&gt;</th></tr>\n",
       "</thead>\n",
       "<tbody>\n",
       "\t<tr><th scope=row>1</th><td>chr1</td><td>    1</td><td> 2000</td><td>0.00000</td><td>0</td><td>0</td><td>0</td></tr>\n",
       "\t<tr><th scope=row>2</th><td>chr1</td><td> 2001</td><td> 4000</td><td>0.00000</td><td>0</td><td>0</td><td>0</td></tr>\n",
       "\t<tr><th scope=row>3</th><td>chr1</td><td> 4001</td><td> 6000</td><td>0.00000</td><td>0</td><td>0</td><td>0</td></tr>\n",
       "\t<tr><th scope=row>4</th><td>chr1</td><td> 6001</td><td> 8000</td><td>0.00000</td><td>0</td><td>0</td><td>0</td></tr>\n",
       "\t<tr><th scope=row>5</th><td>chr1</td><td> 8001</td><td>10000</td><td>0.11165</td><td>0</td><td>0</td><td>0</td></tr>\n",
       "\t<tr><th scope=row>6</th><td>chr1</td><td>10001</td><td>12000</td><td>0.11165</td><td>0</td><td>0</td><td>0</td></tr>\n",
       "</tbody>\n",
       "</table>\n"
      ],
      "text/latex": [
       "A data.frame: 6 × 7\n",
       "\\begin{tabular}{r|lllllll}\n",
       "  & chrom & start & end & H3K4me1 & H3K4me2 & H3K4me3 & H3K27ac\\\\\n",
       "  & <fct> & <dbl> & <int> & <dbl> & <dbl> & <dbl> & <dbl>\\\\\n",
       "\\hline\n",
       "\t1 & chr1 &     1 &  2000 & 0.00000 & 0 & 0 & 0\\\\\n",
       "\t2 & chr1 &  2001 &  4000 & 0.00000 & 0 & 0 & 0\\\\\n",
       "\t3 & chr1 &  4001 &  6000 & 0.00000 & 0 & 0 & 0\\\\\n",
       "\t4 & chr1 &  6001 &  8000 & 0.00000 & 0 & 0 & 0\\\\\n",
       "\t5 & chr1 &  8001 & 10000 & 0.11165 & 0 & 0 & 0\\\\\n",
       "\t6 & chr1 & 10001 & 12000 & 0.11165 & 0 & 0 & 0\\\\\n",
       "\\end{tabular}\n"
      ],
      "text/markdown": [
       "\n",
       "A data.frame: 6 × 7\n",
       "\n",
       "| <!--/--> | chrom &lt;fct&gt; | start &lt;dbl&gt; | end &lt;int&gt; | H3K4me1 &lt;dbl&gt; | H3K4me2 &lt;dbl&gt; | H3K4me3 &lt;dbl&gt; | H3K27ac &lt;dbl&gt; |\n",
       "|---|---|---|---|---|---|---|---|\n",
       "| 1 | chr1 |     1 |  2000 | 0.00000 | 0 | 0 | 0 |\n",
       "| 2 | chr1 |  2001 |  4000 | 0.00000 | 0 | 0 | 0 |\n",
       "| 3 | chr1 |  4001 |  6000 | 0.00000 | 0 | 0 | 0 |\n",
       "| 4 | chr1 |  6001 |  8000 | 0.00000 | 0 | 0 | 0 |\n",
       "| 5 | chr1 |  8001 | 10000 | 0.11165 | 0 | 0 | 0 |\n",
       "| 6 | chr1 | 10001 | 12000 | 0.11165 | 0 | 0 | 0 |\n",
       "\n"
      ],
      "text/plain": [
       "  chrom start end   H3K4me1 H3K4me2 H3K4me3 H3K27ac\n",
       "1 chr1      1  2000 0.00000 0       0       0      \n",
       "2 chr1   2001  4000 0.00000 0       0       0      \n",
       "3 chr1   4001  6000 0.00000 0       0       0      \n",
       "4 chr1   6001  8000 0.00000 0       0       0      \n",
       "5 chr1   8001 10000 0.11165 0       0       0      \n",
       "6 chr1  10001 12000 0.11165 0       0       0      "
      ]
     },
     "metadata": {},
     "output_type": "display_data"
    }
   ],
   "source": [
    "## We plan to normalize count data for BPM = Bins Per Million mapped reads, same as TPM in RNA-seq.\n",
    "## A simple function performs this task for us.\n",
    "\n",
    "source(\"bpmNormalize.R\")\n",
    "countMatrix$H3K4me1 <- bpmNormalize(countMatrix$H3K4me1)\n",
    "countMatrix$H3K4me2 <- bpmNormalize(countMatrix$H3K4me2)\n",
    "countMatrix$H3K4me3 <- bpmNormalize(countMatrix$H3K4me3)\n",
    "countMatrix$H3K27ac <- bpmNormalize(countMatrix$H3K27ac)\n",
    "\n",
    "## Let's check out the transformed matrix.\n",
    "head(countMatrix)"
   ]
  },
  {
   "cell_type": "code",
   "execution_count": 6,
   "metadata": {},
   "outputs": [
    {
     "name": "stdout",
     "output_type": "stream",
     "text": [
      "The row count for H3K4me1 reads is 1e+06 \n",
      "The row count for H3K4me2 reads is 1e+06 \n",
      "The row count for H3K4me3 reads is 1e+06 \n",
      "The row count for H3K27ac reads is 1e+06"
     ]
    }
   ],
   "source": [
    "## A great test for visualizing normalization is that all the columns shall now be proportionate.\n",
    "\n",
    "cat(\"The row count for H3K4me1 reads is\", sum(countMatrix$H3K4me1),\"\\n\")\n",
    "cat(\"The row count for H3K4me2 reads is\", sum(countMatrix$H3K4me2),\"\\n\")\n",
    "cat(\"The row count for H3K4me3 reads is\", sum(countMatrix$H3K4me3),\"\\n\")\n",
    "cat(\"The row count for H3K27ac reads is\", sum(countMatrix$H3K27ac))"
   ]
  },
  {
   "cell_type": "markdown",
   "metadata": {},
   "source": [
    "Now, we're good to proceed. We shall tap *computeMatrix* function from **deepTools** for preparing input for *plotProfiles* function from the same suite."
   ]
  },
  {
   "cell_type": "markdown",
   "metadata": {},
   "source": [
    "Before though, we can imagine that shorter reads shall have greater chance of alignment to the genomic regions. Let's explore the aspect too with a density plot as under."
   ]
  },
  {
   "cell_type": "code",
   "execution_count": 7,
   "metadata": {},
   "outputs": [
    {
     "data": {
      "image/png": "[encoded data removed]",
      "text/plain": [
       "Plot with title “Density Plot for Read Counts for Epigenetic Marks”"
      ]
     },
     "metadata": {
      "image/png": {
       "height": 420,
       "width": 420
      },
      "text/plain": {
       "height": 420,
       "width": 420
      }
     },
     "output_type": "display_data"
    }
   ],
   "source": [
    "## Density Plots\n",
    "\n",
    "plot(density(countMatrix$H3K4me1), col=\"orange\", xlab = \"Read Length\", ylab = \"Density\", main = \"Density Plot for Read Counts for Epigenetic Marks\")\n",
    "lines(density(countMatrix$H3K4me2), col=\"red\")\n",
    "lines(density(countMatrix$H3K4me3), col=\"blue\")\n",
    "lines(density(countMatrix$H3K27ac), col=\"green\")\n",
    "legend(31, 1.6, legend=c(\"H3K4me1\", \"H3K4me2\", \"H3K4me3\", \"H3K27ac\"),\n",
    "       col=c(\"orange\", \"red\", \"blue\", \"green\"), lty=1, cex= 0.5)"
   ]
  },
  {
   "cell_type": "markdown",
   "metadata": {},
   "source": [
    "We also decipher that the average read length is about 36. The above graphic illustrates that shorter reads have greater alignment scores than lengthier ones."
   ]
  },
  {
   "cell_type": "markdown",
   "metadata": {},
   "source": [
    "## computeMatrix and plotProfile functions: visualization of peaks"
   ]
  },
  {
   "cell_type": "code",
   "execution_count": 11,
   "metadata": {},
   "outputs": [],
   "source": [
    "## Let's isolate the individual score columns into distinct files to be fed to computeMatrix.\n",
    "\n",
    "for (co in 4:7)\n",
    "{\n",
    "  write.table(countMatrix[,c(1:3,co)], \n",
    "              file = paste0(as.character(co), \"th_mark.bedGraph\"), \n",
    "              sep = \"\\t\",\n",
    "              quote = FALSE,\n",
    "              row.names = FALSE,\n",
    "              col.names = c(\"chrom\", \"start\", \"end\", \"score\"))\n",
    "}"
   ]
  },
  {
   "cell_type": "markdown",
   "metadata": {},
   "source": [
    "Since computeMatrix algorithm takes bigWig files as input, we shall first convert our bedGraph files to bigWig files. For doing so, we shall download and install *bedGraphToBigWig* and *bedClip* tools from **http://genome.ucsc.edu**, and chromosome sizes for hg19. Remember to make the tools executable."
   ]
  },
  {
   "cell_type": "code",
   "execution_count": 12,
   "metadata": {},
   "outputs": [],
   "source": [
    "## Change to the working directory\n",
    "## Make tools executable\n",
    "\n",
    "system (\"chmod a+x ./bedGraphToBigWig\")\n",
    "system (\"chmod a+x ./bedClip\")\n",
    "\n",
    "\n",
    "## Remove headers from the files\n",
    "\n",
    "system(\"awk '{if (NR!=1) {print}}' 4th_mark.bedGraph > 4th_mark_noHeader.bedGraph\")\n",
    "system(\"awk '{if (NR!=1) {print}}' 5th_mark.bedGraph > 5th_mark_noHeader.bedGraph\")\n",
    "system(\"awk '{if (NR!=1) {print}}' 6th_mark.bedGraph > 6th_mark_noHeader.bedGraph\")\n",
    "system(\"awk '{if (NR!=1) {print}}' 7th_mark.bedGraph > 7th_mark_noHeader.bedGraph\")\n",
    "\n",
    "## Trim the extremities for genomic coordinates to be contained inside the defined chromosome sizes \n",
    "## for the given version of human genome (hg19 here).\n",
    "\n",
    "system(\"./bedClip 4th_mark_noHeader.bedGraph hg19.chrom.sizes 4th_mark_noHeader_clipped.bedGraph\")\n",
    "system(\"./bedClip 5th_mark_noHeader.bedGraph hg19.chrom.sizes 5th_mark_noHeader_clipped.bedGraph\")\n",
    "system(\"./bedClip 6th_mark_noHeader.bedGraph hg19.chrom.sizes 6th_mark_noHeader_clipped.bedGraph\")\n",
    "system(\"./bedClip 7th_mark_noHeader.bedGraph hg19.chrom.sizes 7th_mark_noHeader_clipped.bedGraph\")\n",
    "\n",
    "## Sort our bedGraph files\n",
    "\n",
    "system (\"sort -k1,1 -k2,2n  4th_mark_noHeader_clipped.bedGraph > 4th_mark_noHeader_clipped_sorted.bedGraph\")\n",
    "system (\"sort -k1,1 -k2,2n  5th_mark_noHeader_clipped.bedGraph > 5th_mark_noHeader_clipped_sorted.bedGraph\")\n",
    "system (\"sort -k1,1 -k2,2n  6th_mark_noHeader_clipped.bedGraph > 6th_mark_noHeader_clipped_sorted.bedGraph\")\n",
    "system (\"sort -k1,1 -k2,2n  7th_mark_noHeader_clipped.bedGraph > 7th_mark_noHeader_clipped_sorted.bedGraph\")\n",
    "\n",
    "## Converting to bigWig format\n",
    "\n",
    "system(\"./bedGraphToBigWig 4th_mark_noHeader_clipped_sorted.bedGraph hg19.chrom.sizes 4th_mark.bw\")\n",
    "system(\"./bedGraphToBigWig 5th_mark_noHeader_clipped_sorted.bedGraph hg19.chrom.sizes 5th_mark.bw\")\n",
    "system(\"./bedGraphToBigWig 6th_mark_noHeader_clipped_sorted.bedGraph hg19.chrom.sizes 6th_mark.bw\")\n",
    "system(\"./bedGraphToBigWig 7th_mark_noHeader_clipped_sorted.bedGraph hg19.chrom.sizes 7th_mark.bw\")"
   ]
  },
  {
   "cell_type": "code",
   "execution_count": null,
   "metadata": {},
   "outputs": [],
   "source": [
    "## Executing computeMatrix\n",
    "\n",
    "system(\"bash computeMatrixRun.sh\")"
   ]
  },
  {
   "cell_type": "code",
   "execution_count": 1,
   "metadata": {},
   "outputs": [
    {
     "data": {
      "text/plain": [
       "R version 3.3.3 (2017-03-06)\n",
       "Platform: x86_64-apple-darwin13.4.0 (64-bit)\n",
       "Running under: OS X Yosemite 10.10.5\n",
       "\n",
       "locale:\n",
       "[1] C/UTF-8/C/C/C/C\n",
       "\n",
       "attached base packages:\n",
       "[1] stats     graphics  grDevices utils     datasets  methods   base     \n",
       "\n",
       "loaded via a namespace (and not attached):\n",
       " [1] IRdisplay_0.7.0 pbdZMQ_0.3-3    tools_3.3.3     htmltools_0.4.0\n",
       " [5] pillar_1.4.3    base64enc_0.1-3 crayon_1.3.4    Rcpp_1.0.3     \n",
       " [9] uuid_0.1-4      IRkernel_1.1    jsonlite_1.6.1  digest_0.6.25  \n",
       "[13] repr_1.1.0      rlang_0.4.4     evaluate_0.14  "
      ]
     },
     "metadata": {},
     "output_type": "display_data"
    }
   ],
   "source": [
    "sessionInfo()"
   ]
  },
  {
   "cell_type": "markdown",
   "metadata": {},
   "source": [
    "## References"
   ]
  },
  {
   "cell_type": "markdown",
   "metadata": {},
   "source": [
    "<div class=\"cite2c-biblio\"></div>"
   ]
  }
 ],
 "metadata": {
  "kernelspec": {
   "display_name": "R",
   "language": "R",
   "name": "ir"
  },
  "language_info": {
   "codemirror_mode": "r",
   "file_extension": ".r",
   "mimetype": "text/x-r-source",
   "name": "R",
   "pygments_lexer": "r",
   "version": "3.3.3"
  }
 },
 "nbformat": 4,
 "nbformat_minor": 2
}
