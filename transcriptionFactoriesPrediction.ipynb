{
 "cells": [
  {
   "cell_type": "markdown",
   "metadata": {},
   "source": [
    "# Prediction of Transcription Factories: A Machine Learning Blueprint"
   ]
  },
  {
   "cell_type": "markdown",
   "metadata": {},
   "source": [
    "Transcription Factories are those purported sites that have been identified as the breeding grounds for transcripts. Their relevance heightens when the spatial organization of the genome is considered. Since transcription factories attract distant segments of the genome together for inter-mingling and possibly carrying out regulation, true picture emerges of the parts that co-localize and co-express. This has been a major lacuna in the dogma of the current suite of enrichment tools for genomic regions."
   ]
  },
  {
   "cell_type": "markdown",
   "metadata": {},
   "source": [
    "## Setting up Target Genomic Regions"
   ]
  },
  {
   "cell_type": "markdown",
   "metadata": {},
   "source": [
    "In cognizance to [GREG](http://www.dx.doi.org/10.1093/database/baz162), we define genomic regions with a 2 kilobase bin size. These shall be the pivots corresponding to which the features with read counts shall be hinged. Additionally, we want to make our BED file [1-based](http://genome.ucsc.edu/FAQ/FAQformat.html#format1), to align with the format in GREG. "
   ]
  },
  {
   "cell_type": "code",
   "execution_count": 3,
   "metadata": {},
   "outputs": [
    {
     "name": "stderr",
     "output_type": "stream",
     "text": [
      "Bioconductor version 3.4 (BiocManager 1.30.10), R 3.3.3 (2017-03-06)\n",
      "\n",
      "Installing package(s) 'BiocVersion', 'BSgenome.Hsapiens.UCSC.hg19'\n",
      "\n",
      "installing the source package ‘BSgenome.Hsapiens.UCSC.hg19’\n",
      "\n",
      "\n",
      "Old packages: 'Hmisc', 'KernSmooth', 'Matrix', 'cluster', 'covr', 'dplyr',\n",
      "  'foreign', 'fs', 'ggplot2', 'lifecycle', 'mgcv', 'plyr', 'rlang', 'servr',\n",
      "  'testthat', 'vctrs'\n",
      "\n",
      "Loading required package: BSgenome\n",
      "\n",
      "Loading required package: BiocGenerics\n",
      "\n",
      "Loading required package: parallel\n",
      "\n",
      "\n",
      "Attaching package: ‘BiocGenerics’\n",
      "\n",
      "\n",
      "The following objects are masked from ‘package:parallel’:\n",
      "\n",
      "    clusterApply, clusterApplyLB, clusterCall, clusterEvalQ,\n",
      "    clusterExport, clusterMap, parApply, parCapply, parLapply,\n",
      "    parLapplyLB, parRapply, parSapply, parSapplyLB\n",
      "\n",
      "\n",
      "The following objects are masked from ‘package:stats’:\n",
      "\n",
      "    IQR, mad, xtabs\n",
      "\n",
      "\n",
      "The following objects are masked from ‘package:base’:\n",
      "\n",
      "    Filter, Find, Map, Position, Reduce, anyDuplicated, append,\n",
      "    as.data.frame, cbind, colnames, do.call, duplicated, eval, evalq,\n",
      "    get, grep, grepl, intersect, is.unsorted, lapply, lengths, mapply,\n",
      "    match, mget, order, paste, pmax, pmax.int, pmin, pmin.int, rank,\n",
      "    rbind, rownames, sapply, setdiff, sort, table, tapply, union,\n",
      "    unique, unsplit, which, which.max, which.min\n",
      "\n",
      "\n",
      "Loading required package: S4Vectors\n",
      "\n",
      "Loading required package: stats4\n",
      "\n",
      "\n",
      "Attaching package: ‘S4Vectors’\n",
      "\n",
      "\n",
      "The following objects are masked from ‘package:base’:\n",
      "\n",
      "    colMeans, colSums, expand.grid, rowMeans, rowSums\n",
      "\n",
      "\n",
      "Loading required package: IRanges\n",
      "\n",
      "Loading required package: GenomeInfoDb\n",
      "\n",
      "Loading required package: GenomicRanges\n",
      "\n",
      "Loading required package: Biostrings\n",
      "\n",
      "Loading required package: XVector\n",
      "\n",
      "Loading required package: rtracklayer\n",
      "\n"
     ]
    }
   ],
   "source": [
    "## Source the UCSC library for Homo sapiens genome, version hg19.\n",
    "BiocManager::install(\"BSgenome.Hsapiens.UCSC.hg19\")\n",
    "library(BSgenome.Hsapiens.UCSC.hg19)"
   ]
  },
  {
   "cell_type": "markdown",
   "metadata": {},
   "source": [
    "From the chromosome size definitions available in the loaded package, we create an index as follows. This shall be the premises on which our genomic bins shall be carved out."
   ]
  },
  {
   "cell_type": "code",
   "execution_count": 4,
   "metadata": {},
   "outputs": [
    {
     "data": {
      "text/plain": [
       "Seqinfo object with 93 sequences (1 circular) from hg19 genome:\n",
       "  seqnames       seqlengths isCircular genome\n",
       "  chr1            249250621      FALSE   hg19\n",
       "  chr2            243199373      FALSE   hg19\n",
       "  chr3            198022430      FALSE   hg19\n",
       "  chr4            191154276      FALSE   hg19\n",
       "  chr5            180915260      FALSE   hg19\n",
       "  ...                   ...        ...    ...\n",
       "  chrUn_gl000245      36651      FALSE   hg19\n",
       "  chrUn_gl000246      38154      FALSE   hg19\n",
       "  chrUn_gl000247      36422      FALSE   hg19\n",
       "  chrUn_gl000248      39786      FALSE   hg19\n",
       "  chrUn_gl000249      38502      FALSE   hg19"
      ]
     },
     "metadata": {},
     "output_type": "display_data"
    }
   ],
   "source": [
    "si <- seqinfo(BSgenome.Hsapiens.UCSC.hg19)\n",
    "si"
   ]
  },
  {
   "cell_type": "markdown",
   "metadata": {},
   "source": [
    "The function **tileGenome** allows to structure a definitive GenomicRanges object."
   ]
  },
  {
   "cell_type": "code",
   "execution_count": 5,
   "metadata": {},
   "outputs": [
    {
     "data": {
      "text/plain": [
       "GRanges object with 1568625 ranges and 0 metadata columns:\n",
       "                  seqnames         ranges strand\n",
       "                     <Rle>      <IRanges>  <Rle>\n",
       "        [1]           chr1  [   1,  2000]      *\n",
       "        [2]           chr1  [2001,  4000]      *\n",
       "        [3]           chr1  [4001,  6000]      *\n",
       "        [4]           chr1  [6001,  8000]      *\n",
       "        [5]           chr1  [8001, 10000]      *\n",
       "        ...            ...            ...    ...\n",
       "  [1568621] chrUn_gl000249 [30001, 32000]      *\n",
       "  [1568622] chrUn_gl000249 [32001, 34000]      *\n",
       "  [1568623] chrUn_gl000249 [34001, 36000]      *\n",
       "  [1568624] chrUn_gl000249 [36001, 38000]      *\n",
       "  [1568625] chrUn_gl000249 [38001, 38502]      *\n",
       "  -------\n",
       "  seqinfo: 93 sequences (1 circular) from hg19 genome"
      ]
     },
     "metadata": {},
     "output_type": "display_data"
    }
   ],
   "source": [
    "Bins2k <-  tileGenome(si, tilewidth = 2000, cut.last.tile.in.chrom = TRUE)\n",
    "Bins2k"
   ]
  },
  {
   "cell_type": "code",
   "execution_count": 32,
   "metadata": {},
   "outputs": [
    {
     "data": {
      "text/html": [
       "<table>\n",
       "<caption>A data.frame: 6 × 3</caption>\n",
       "<thead>\n",
       "\t<tr><th></th><th scope=col>Chrom</th><th scope=col>Start</th><th scope=col>End</th></tr>\n",
       "\t<tr><th></th><th scope=col>&lt;fct&gt;</th><th scope=col>&lt;int&gt;</th><th scope=col>&lt;int&gt;</th></tr>\n",
       "</thead>\n",
       "<tbody>\n",
       "\t<tr><th scope=row>1</th><td>chr1</td><td>    1</td><td> 2000</td></tr>\n",
       "\t<tr><th scope=row>2</th><td>chr1</td><td> 2001</td><td> 4000</td></tr>\n",
       "\t<tr><th scope=row>3</th><td>chr1</td><td> 4001</td><td> 6000</td></tr>\n",
       "\t<tr><th scope=row>4</th><td>chr1</td><td> 6001</td><td> 8000</td></tr>\n",
       "\t<tr><th scope=row>5</th><td>chr1</td><td> 8001</td><td>10000</td></tr>\n",
       "\t<tr><th scope=row>6</th><td>chr1</td><td>10001</td><td>12000</td></tr>\n",
       "</tbody>\n",
       "</table>\n"
      ],
      "text/latex": [
       "A data.frame: 6 × 3\n",
       "\\begin{tabular}{r|lll}\n",
       "  & Chrom & Start & End\\\\\n",
       "  & <fct> & <int> & <int>\\\\\n",
       "\\hline\n",
       "\t1 & chr1 &     1 &  2000\\\\\n",
       "\t2 & chr1 &  2001 &  4000\\\\\n",
       "\t3 & chr1 &  4001 &  6000\\\\\n",
       "\t4 & chr1 &  6001 &  8000\\\\\n",
       "\t5 & chr1 &  8001 & 10000\\\\\n",
       "\t6 & chr1 & 10001 & 12000\\\\\n",
       "\\end{tabular}\n"
      ],
      "text/markdown": [
       "\n",
       "A data.frame: 6 × 3\n",
       "\n",
       "| <!--/--> | Chrom &lt;fct&gt; | Start &lt;int&gt; | End &lt;int&gt; |\n",
       "|---|---|---|---|\n",
       "| 1 | chr1 |     1 |  2000 |\n",
       "| 2 | chr1 |  2001 |  4000 |\n",
       "| 3 | chr1 |  4001 |  6000 |\n",
       "| 4 | chr1 |  6001 |  8000 |\n",
       "| 5 | chr1 |  8001 | 10000 |\n",
       "| 6 | chr1 | 10001 | 12000 |\n",
       "\n"
      ],
      "text/plain": [
       "  Chrom Start End  \n",
       "1 chr1      1  2000\n",
       "2 chr1   2001  4000\n",
       "3 chr1   4001  6000\n",
       "4 chr1   6001  8000\n",
       "5 chr1   8001 10000\n",
       "6 chr1  10001 12000"
      ]
     },
     "metadata": {},
     "output_type": "display_data"
    }
   ],
   "source": [
    "targetBED <- as.data.frame(Bins2k)\n",
    "targetBED <- targetBED[, 1:3]\n",
    "colnames(targetBED) <- c(\"Chrom\", \"Start\", \"End\")\n",
    "head(targetBED)"
   ]
  },
  {
   "cell_type": "markdown",
   "metadata": {},
   "source": [
    "These are the regions where the read counts need to be mapped."
   ]
  },
  {
   "cell_type": "markdown",
   "metadata": {},
   "source": [
    "## Feature Files"
   ]
  },
  {
   "cell_type": "markdown",
   "metadata": {},
   "source": [
    "For exemplifying, let us pick up the ChIP-Seq (BAM file: a replicate) for epigenetic mark - H3K4me1 for the H1 hESC cell line.(WIP; More instances to follow)"
   ]
  },
  {
   "cell_type": "markdown",
   "metadata": {},
   "source": [
    "![](siftingBAM.jpg)"
   ]
  },
  {
   "cell_type": "markdown",
   "metadata": {},
   "source": [
    "The BAM file is indexed first."
   ]
  },
  {
   "cell_type": "code",
   "execution_count": 6,
   "metadata": {},
   "outputs": [],
   "source": [
    "system(\"samtools index -b ./sampleDataH1/H3K4me1/ENCFF441KOL.bam\")"
   ]
  },
  {
   "cell_type": "markdown",
   "metadata": {},
   "source": [
    "Now that we have the index files along, we proceed towards getting read counts for our defined bin-size.  We achieve this via deeptools suite, a function called bamCoverage. "
   ]
  },
  {
   "cell_type": "code",
   "execution_count": 7,
   "metadata": {},
   "outputs": [],
   "source": [
    "system(\"bamCoverage --bam ./sampleDataH1/H3K4me1/ENCFF441KOL.bam -o ./sampleDataH1/H3K4me1/ENCFF441KOL_2Kb.bw --binSize 2000 --normalizeUsing BPM --effectiveGenomeSize 2913022398 --outFileFormat bedgraph --maxFragmentLength 36\")"
   ]
  },
  {
   "cell_type": "code",
   "execution_count": 13,
   "metadata": {},
   "outputs": [],
   "source": [
    "## Calling appropriate libraries.\n",
    "\n",
    "library(GenomicRanges)\n",
    "library(rtracklayer)\n",
    "library(IRanges)"
   ]
  },
  {
   "cell_type": "code",
   "execution_count": 18,
   "metadata": {},
   "outputs": [
    {
     "data": {
      "text/plain": [
       "GRanges object with 1218531 ranges and 1 metadata column:\n",
       "                    seqnames           ranges strand |        name\n",
       "                       <Rle>        <IRanges>  <Rle> | <character>\n",
       "        [1]             chr1   [    1,  8000]      * |           0\n",
       "        [2]             chr1   [ 8001, 12000]      * |    0.113715\n",
       "        [3]             chr1   [12001, 16000]      * |           0\n",
       "        [4]             chr1   [16001, 18000]      * |    0.113715\n",
       "        [5]             chr1   [18001, 40000]      * |           0\n",
       "        ...              ...              ...    ... .         ...\n",
       "  [1218527] chrUn_GL000218v1 [ 42001, 126000]      * |           0\n",
       "  [1218528] chrUn_GL000218v1 [126001, 128000]      * |    0.113715\n",
       "  [1218529] chrUn_GL000218v1 [128001, 160000]      * |           0\n",
       "  [1218530] chrUn_GL000218v1 [160001, 161147]      * |    0.113715\n",
       "  [1218531]           chrEBV [     1, 171823]      * |           0\n",
       "  -------\n",
       "  seqinfo: 195 sequences from an unspecified genome; no seqlengths"
      ]
     },
     "metadata": {},
     "output_type": "display_data"
    }
   ],
   "source": [
    "## Loading the read count data\n",
    "\n",
    "sample <- import.bed(\"./sampleDataH1/H3K4me1/ENCFF441KOL_2Kb.bw\")\n",
    "sample"
   ]
  },
  {
   "cell_type": "markdown",
   "metadata": {},
   "source": [
    "One of the issues of using *bamCoverage* is that it merges the adjacent bins if the reads overlap. Since, we mandatorily require the reads to fall into a prespecified interval (Bins2K object), we shall have to look for and map the overlaps."
   ]
  },
  {
   "cell_type": "code",
   "execution_count": 33,
   "metadata": {},
   "outputs": [
    {
     "data": {
      "text/html": [
       "<table>\n",
       "<caption>A data.frame: 6 × 4</caption>\n",
       "<thead>\n",
       "\t<tr><th></th><th scope=col>Chrom</th><th scope=col>Start</th><th scope=col>End</th><th scope=col>Score</th></tr>\n",
       "\t<tr><th></th><th scope=col>&lt;fct&gt;</th><th scope=col>&lt;int&gt;</th><th scope=col>&lt;int&gt;</th><th scope=col>&lt;chr&gt;</th></tr>\n",
       "</thead>\n",
       "<tbody>\n",
       "\t<tr><th scope=row>1</th><td>chr1</td><td>    1</td><td> 8000</td><td>0       </td></tr>\n",
       "\t<tr><th scope=row>2</th><td>chr1</td><td> 8001</td><td>12000</td><td>0.113715</td></tr>\n",
       "\t<tr><th scope=row>3</th><td>chr1</td><td>12001</td><td>16000</td><td>0       </td></tr>\n",
       "\t<tr><th scope=row>4</th><td>chr1</td><td>16001</td><td>18000</td><td>0.113715</td></tr>\n",
       "\t<tr><th scope=row>5</th><td>chr1</td><td>18001</td><td>40000</td><td>0       </td></tr>\n",
       "\t<tr><th scope=row>6</th><td>chr1</td><td>40001</td><td>42000</td><td>0.113715</td></tr>\n",
       "</tbody>\n",
       "</table>\n"
      ],
      "text/latex": [
       "A data.frame: 6 × 4\n",
       "\\begin{tabular}{r|llll}\n",
       "  & Chrom & Start & End & Score\\\\\n",
       "  & <fct> & <int> & <int> & <chr>\\\\\n",
       "\\hline\n",
       "\t1 & chr1 &     1 &  8000 & 0       \\\\\n",
       "\t2 & chr1 &  8001 & 12000 & 0.113715\\\\\n",
       "\t3 & chr1 & 12001 & 16000 & 0       \\\\\n",
       "\t4 & chr1 & 16001 & 18000 & 0.113715\\\\\n",
       "\t5 & chr1 & 18001 & 40000 & 0       \\\\\n",
       "\t6 & chr1 & 40001 & 42000 & 0.113715\\\\\n",
       "\\end{tabular}\n"
      ],
      "text/markdown": [
       "\n",
       "A data.frame: 6 × 4\n",
       "\n",
       "| <!--/--> | Chrom &lt;fct&gt; | Start &lt;int&gt; | End &lt;int&gt; | Score &lt;chr&gt; |\n",
       "|---|---|---|---|---|\n",
       "| 1 | chr1 |     1 |  8000 | 0        |\n",
       "| 2 | chr1 |  8001 | 12000 | 0.113715 |\n",
       "| 3 | chr1 | 12001 | 16000 | 0        |\n",
       "| 4 | chr1 | 16001 | 18000 | 0.113715 |\n",
       "| 5 | chr1 | 18001 | 40000 | 0        |\n",
       "| 6 | chr1 | 40001 | 42000 | 0.113715 |\n",
       "\n"
      ],
      "text/plain": [
       "  Chrom Start End   Score   \n",
       "1 chr1      1  8000 0       \n",
       "2 chr1   8001 12000 0.113715\n",
       "3 chr1  12001 16000 0       \n",
       "4 chr1  16001 18000 0.113715\n",
       "5 chr1  18001 40000 0       \n",
       "6 chr1  40001 42000 0.113715"
      ]
     },
     "metadata": {},
     "output_type": "display_data"
    }
   ],
   "source": [
    "sourceBED <- as.data.frame(sample)\n",
    "sourceBED <- sourceBED[, c(1:3,6)]\n",
    "colnames(sourceBED) <- c(\"Chrom\", \"Start\", \"End\", \"Score\")\n",
    "head(sourceBED)"
   ]
  },
  {
   "cell_type": "code",
   "execution_count": 30,
   "metadata": {},
   "outputs": [],
   "source": [
    "mappingReadsBins <- function(targetBED, sourceBED)\n",
    "{\n",
    "  sourceBED$Chrom <- factor(sourceBED$Chrom, levels=levels(targetBED$Chrom)) # match chromosomes for consistency \n",
    "  # names in random binned file to the fixed bins file.\n",
    "      for(i in 1:nrow(sourceBED))\n",
    "      {\n",
    "        for(j in 1:nrow(targetBED))\n",
    "          {\n",
    "            if(sourceBED$Chrom[i] == targetBED$Chrom[j] && sourceBED$Start[i] <= targetBED$Start[j] && sourceBED$End[i] >= targetBED$End[j])\n",
    "            {\n",
    "              targetBED$Score[j] <- sourceBED$Score[i]\n",
    "            }\n",
    "          }\n",
    "      }\n",
    "  return(targetBED)\n",
    "      }"
   ]
  },
  {
   "cell_type": "code",
   "execution_count": 31,
   "metadata": {},
   "outputs": [],
   "source": [
    "sample2k <- mappingReadsBins(targetBED, sourceBED)\n",
    "sample2k"
   ]
  },
  {
   "cell_type": "code",
   "execution_count": null,
   "metadata": {},
   "outputs": [],
   "source": []
  }
 ],
 "metadata": {
  "kernelspec": {
   "display_name": "R",
   "language": "R",
   "name": "ir"
  },
  "language_info": {
   "codemirror_mode": "r",
   "file_extension": ".r",
   "mimetype": "text/x-r-source",
   "name": "R",
   "pygments_lexer": "r",
   "version": "3.3.3"
  }
 },
 "nbformat": 4,
 "nbformat_minor": 2
}
